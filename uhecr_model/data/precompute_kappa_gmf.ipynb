{
 "cells": [
  {
   "cell_type": "markdown",
   "source": [
    "## Precomputation for $\\kappa_{GMF}$\n",
    "\n",
    "Precompute the values of $\\kappa_{GMF}$, which defines the deflection between the UHECR arrived at earth $\\omega$ and those after back propagation in the galactic magnetic field (GMF) $\\omega_{GMF}$. This is precomputed for each composition and stored in the relevant group in `UHECRdata.h5`.\n",
    "\n",
    "**NOTE:** This only needs to be computed once. Eventually we will set up a flag so that this would not compute when it is already computed."
   ],
   "metadata": {}
  },
  {
   "cell_type": "code",
   "execution_count": 16,
   "source": [
    "import os\n",
    "import h5py\n",
    "import numpy as np\n",
    "\n",
    "from fancy import Uhecr\n",
    "from fancy.interfaces.stan import coord_to_uv\n",
    "\n",
    "uhecr_file = \"UHECRdata.h5\"\n",
    "\n",
    "# type of detector / UHECR dataset\n",
    "# choose from [\"TA2015\", \"auger2014\", \"auger2010\"]\n",
    "uhecr_label = \"TA2015\"\n",
    "\n",
    "# initialize the Uhecr object\n",
    "uhecr = Uhecr()"
   ],
   "outputs": [],
   "metadata": {}
  },
  {
   "cell_type": "code",
   "execution_count": 17,
   "source": [
    "with h5py.File(uhecr_file, \"r+\") as f:\n",
    "    print(f.keys())\n",
    "    del f[uhecr_label][\"kappa_gmf\"]\n",
    "    print(f[uhecr_label].keys())"
   ],
   "outputs": [
    {
     "output_type": "stream",
     "name": "stdout",
     "text": [
      "<KeysViewHDF5 ['TA2015', 'auger2010', 'auger2014']>\n",
      "<KeysViewHDF5 ['day', 'dec', 'energy', 'glat', 'glon', 'ra', 'theta', 'year']>\n"
     ]
    }
   ],
   "metadata": {}
  },
  {
   "cell_type": "code",
   "execution_count": 18,
   "source": [
    "'''Open the UHECR file'''\n",
    "with h5py.File(uhecr_file, 'r+') as f:\n",
    "\n",
    "    data = f[uhecr_label]\n",
    "    \n",
    "    uhecr.label = uhecr_label\n",
    "    uhecr.year = data['year'][()]\n",
    "    uhecr.day = data['day'][()]\n",
    "    uhecr.zenith_angle = np.deg2rad(data['theta'][()])\n",
    "    uhecr.energy = data['energy'][()]\n",
    "    uhecr.N = len(uhecr.energy)\n",
    "    glon = data['glon'][()]\n",
    "    glat = data['glat'][()]\n",
    "    uhecr.coord = uhecr.get_coordinates(glon, glat)\n",
    "\n",
    "    uhecr.unit_vector = coord_to_uv(uhecr.coord)\n",
    "    uhecr.period = uhecr._find_period()\n",
    "    uhecr.A = uhecr._find_area(1.)"
   ],
   "outputs": [],
   "metadata": {}
  },
  {
   "cell_type": "code",
   "execution_count": 21,
   "source": [
    "'''Build the kappa_gmf tables for all particles given in uhecr.nuc_tables'''\n",
    "uhecr.build_kappa_gmf(uhecr_file, particle_type=\"all\", args=(100, \"PT11\", False))"
   ],
   "outputs": [
    {
     "output_type": "stream",
     "name": "stderr",
     "text": [
      "Precomputing kappa_gmf for each composition: 100%|██████████| 9/9 [00:02<00:00,  3.09it/s]\n"
     ]
    }
   ],
   "metadata": {}
  },
  {
   "cell_type": "code",
   "execution_count": 22,
   "source": [
    "'''Check if we computed it correctly'''\n",
    "\n",
    "ptypes = [\"p\", \"He\", \"N\", \"Si\", \"Fe\"]\n",
    "\n",
    "gmf_model = \"PT11\"\n",
    "\n",
    "kappa_gmf_list = []\n",
    "lonlats_true_list = []\n",
    "lonlats_rand_list = []\n",
    "lonlats_defl_list = []\n",
    "\n",
    "for ptype in ptypes:\n",
    "    with h5py.File(uhecr_file, \"r\") as f:\n",
    "        print(f[uhecr_label].keys())\n",
    "\n",
    "        print(\"kappa_gmf keys:\")\n",
    "        print(f[uhecr_label][\"kappa_gmf\"].keys())\n",
    "        print(f[uhecr_label][\"kappa_gmf\"][gmf_model][\"p\"].keys())\n",
    "\n",
    "        print(f[uhecr_label][\"kappa_gmf\"][gmf_model][\"p\"][\"kappa_gmf\"][()].shape)\n",
    "\n",
    "\n",
    "        kappa_gmf_list.append(f[uhecr_label][\"kappa_gmf\"][gmf_model][ptype][\"kappa_gmf\"][()])\n",
    "        lonlats_true_list.append(f[uhecr_label][\"kappa_gmf\"][gmf_model][ptype][\"omega_true\"][()])\n",
    "        lonlats_rand_list.append(f[uhecr_label][\"kappa_gmf\"][gmf_model][ptype][\"omega_rand\"][()])\n",
    "        lonlats_defl_list.append(f[uhecr_label][\"kappa_gmf\"][gmf_model][ptype][\"omega_gal\"][()])"
   ],
   "outputs": [
    {
     "output_type": "stream",
     "name": "stdout",
     "text": [
      "<KeysViewHDF5 ['day', 'dec', 'energy', 'glat', 'glon', 'kappa_gmf', 'ra', 'theta', 'year']>\n",
      "kappa_gmf keys:\n",
      "<KeysViewHDF5 ['JF12', 'PT11']>\n",
      "<KeysViewHDF5 ['kappa_gmf', 'kappa_gmf_rand', 'omega_gal', 'omega_rand', 'omega_true']>\n",
      "(72,)\n",
      "<KeysViewHDF5 ['day', 'dec', 'energy', 'glat', 'glon', 'kappa_gmf', 'ra', 'theta', 'year']>\n",
      "kappa_gmf keys:\n",
      "<KeysViewHDF5 ['JF12', 'PT11']>\n",
      "<KeysViewHDF5 ['kappa_gmf', 'kappa_gmf_rand', 'omega_gal', 'omega_rand', 'omega_true']>\n",
      "(72,)\n",
      "<KeysViewHDF5 ['day', 'dec', 'energy', 'glat', 'glon', 'kappa_gmf', 'ra', 'theta', 'year']>\n",
      "kappa_gmf keys:\n",
      "<KeysViewHDF5 ['JF12', 'PT11']>\n",
      "<KeysViewHDF5 ['kappa_gmf', 'kappa_gmf_rand', 'omega_gal', 'omega_rand', 'omega_true']>\n",
      "(72,)\n",
      "<KeysViewHDF5 ['day', 'dec', 'energy', 'glat', 'glon', 'kappa_gmf', 'ra', 'theta', 'year']>\n",
      "kappa_gmf keys:\n",
      "<KeysViewHDF5 ['JF12', 'PT11']>\n",
      "<KeysViewHDF5 ['kappa_gmf', 'kappa_gmf_rand', 'omega_gal', 'omega_rand', 'omega_true']>\n",
      "(72,)\n",
      "<KeysViewHDF5 ['day', 'dec', 'energy', 'glat', 'glon', 'kappa_gmf', 'ra', 'theta', 'year']>\n",
      "kappa_gmf keys:\n",
      "<KeysViewHDF5 ['JF12', 'PT11']>\n",
      "<KeysViewHDF5 ['kappa_gmf', 'kappa_gmf_rand', 'omega_gal', 'omega_rand', 'omega_true']>\n",
      "(72,)\n"
     ]
    }
   ],
   "metadata": {}
  },
  {
   "cell_type": "code",
   "execution_count": 9,
   "source": [
    "ptype_idx = int(np.argwhere([ptype == \"Fe\" for ptype in ptypes])[0])\n",
    "\n",
    "# np.all(kappa_gmf_list[ptype_idx] < 0)\n",
    "kappa_gmf_list[ptype_idx]"
   ],
   "outputs": [
    {
     "output_type": "execute_result",
     "data": {
      "text/plain": [
       "array([1.00000000e-10, 1.00000000e-10, 7.17004251e+00, 3.23527131e+01,\n",
       "       1.65688886e+02, 4.53686106e+00, 1.16782286e+02, 7.23858157e+00,\n",
       "       4.61240214e+00, 1.65490114e+00, 2.39892472e-01, 4.70173326e-01,\n",
       "       1.17596550e-01, 3.56198774e+01, 9.14356557e+00, 1.89033861e+00,\n",
       "       5.06795184e-01, 1.00000000e-10, 1.06481688e+01, 7.38455010e+00,\n",
       "       4.30522906e+02, 1.55463141e+01, 2.16959416e+00, 2.14522493e+00,\n",
       "       2.96892501e-01, 1.00000000e-10, 1.00000000e-10, 1.64509121e+00,\n",
       "       1.00000000e-10, 1.77478428e+00, 3.08834983e+01, 6.74212800e-01,\n",
       "       3.29065625e-01, 1.00000000e-10, 3.27102497e+00, 2.54506801e-01,\n",
       "       1.46054470e+00, 3.88249228e+01, 1.74773848e+00, 1.18048225e+02,\n",
       "       8.52308891e+00, 1.37510633e+00, 4.50244940e+00, 1.22859659e+00,\n",
       "       2.04765910e+00, 2.28562932e+01, 2.63746091e-01, 2.54186337e+00,\n",
       "       8.13579830e-01, 1.32584623e+00, 1.00000000e-10, 2.09890964e+00,\n",
       "       2.34294418e+00, 4.54157638e+00, 7.34358004e-01, 1.00000000e-10,\n",
       "       3.50048037e+00, 2.33478388e+01, 4.15469859e-01, 7.07904180e+00,\n",
       "       5.47619595e-01, 1.99001794e+00, 1.82176779e-01, 9.62666684e+00,\n",
       "       6.72737211e-01, 1.00000000e-10, 4.62792398e-01, 1.00000000e-10,\n",
       "       1.29192858e-01, 1.65252702e+00, 3.27895972e-01, 1.66698953e-02])"
      ]
     },
     "metadata": {},
     "execution_count": 9
    }
   ],
   "metadata": {}
  },
  {
   "cell_type": "code",
   "execution_count": 3,
   "source": [
    "import numpy as np\n",
    "import matplotlib.pyplot as plt\n",
    "\n",
    "import scipy.stats as stats\n",
    "\n",
    "x = np.linspace(0, 100, 1000)\n",
    "y = stats.norm.pdf(x, 50, 50)\n",
    "y = y / np.max(y)\n",
    "\n",
    "y1 = stats.norm.pdf(x, 1, 3)\n",
    "y1 = y1 / np.max(y1)\n",
    "\n",
    "fig, ax = plt.subplots(figsize=(6,4))\n",
    "\n",
    "\n",
    "ax.plot(x, y, lw=5.0, color=\"b\", label=\"Loose\")\n",
    "ax.plot(x, y1, lw=5.0, color=\"orange\", label=\"Tight\")\n",
    "ax.set_xlabel(r\"$B$ [$nG$]\", fontsize=14)\n",
    "ax.set_ylabel(r\"$P(B)$\", fontsize=14)\n",
    "\n",
    "# ax.set_xticks(np.arange(0, 70, 10, dtype=int))\n",
    "# ax.set_yticks(np.arange(0, 1.2, 0.2))\n",
    "\n",
    "# ax.set_xticklabels(np.arange(0, 70, 10, dtype=int), fontsize=14)\n",
    "# ax.set_xticklabels(np.arange(0, 1.2, 0.2), fontsize=14)\n",
    "ax.tick_params(axis=\"x\", labelsize=14)\n",
    "ax.tick_params(axis=\"y\", labelsize=14)\n",
    "ax.set_xlim([0, 60])\n",
    "ax.set_ylim([0, 1.1]);\n",
    "# plt.show()\n",
    "\n",
    "ax.spines['right'].set_visible(False)\n",
    "ax.spines['top'].set_visible(False)\n",
    "\n",
    "ax.legend(bbox_to_anchor=(1.1, 1), borderpad=1.0, frameon=False)\n",
    "\n",
    "fig.tight_layout()\n",
    "\n",
    "\n",
    "\n",
    "\n",
    "\n",
    "plt.show()\n",
    "fig.savefig(\"B_gaussian_plot_legend.png\", dpi=300)\n",
    "# help(np.random.normal)"
   ],
   "outputs": [
    {
     "output_type": "display_data",
     "data": {
      "image/png": "[encoded data removed]",
      "text/plain": [
       "<Figure size 600x400 with 1 Axes>"
      ]
     },
     "metadata": {}
    }
   ],
   "metadata": {}
  },
  {
   "cell_type": "code",
   "execution_count": null,
   "source": [],
   "outputs": [],
   "metadata": {}
  }
 ],
 "metadata": {
  "orig_nbformat": 4,
  "language_info": {
   "name": "python",
   "version": "3.8.5",
   "mimetype": "text/x-python",
   "codemirror_mode": {
    "name": "ipython",
    "version": 3
   },
   "pygments_lexer": "ipython3",
   "nbconvert_exporter": "python",
   "file_extension": ".py"
  },
  "kernelspec": {
   "name": "python3",
   "display_name": "Python 3.8.5 64-bit ('cartopy': conda)"
  },
  "interpreter": {
   "hash": "ed88844adb047a7086eb0ff0e5bdcb90f4ec22b1fadf7c68769e3dcdb7b75680"
  }
 },
 "nbformat": 4,
 "nbformat_minor": 2
}