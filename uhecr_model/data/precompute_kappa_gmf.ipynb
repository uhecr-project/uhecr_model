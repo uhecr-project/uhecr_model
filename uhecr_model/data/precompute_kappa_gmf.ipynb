{
 "cells": [
  {
   "cell_type": "markdown",
   "metadata": {},
   "source": [
    "## Precomputation for $\\kappa_{GMF}$\n",
    "\n",
    "Precompute the values of $\\kappa_{GMF}$, which defines the deflection between the UHECR arrived at earth $\\omega$ and those after back propagation in the galactic magnetic field (GMF) $\\omega_{GMF}$. This is precomputed for each composition and stored in the relevant group in `UHECRdata.h5`.\n",
    "\n",
    "**NOTE:** This only needs to be computed once. Eventually we will set up a flag so that this would not compute when it is already computed."
   ]
  },
  {
   "cell_type": "code",
   "execution_count": 1,
   "metadata": {},
   "outputs": [],
   "source": [
    "import os\n",
    "import h5py\n",
    "import numpy as np\n",
    "\n",
    "from fancy import Uhecr\n",
    "from fancy.interfaces.stan import coord_to_uv\n",
    "\n",
    "uhecr_file = \"UHECRdata.h5\"\n",
    "\n",
    "# type of detector / UHECR dataset\n",
    "# choose from [\"TA2015\", \"auger2014\", \"auger2010\"]\n",
    "uhecr_label = \"TA2015\"\n",
    "\n",
    "# initialize the Uhecr object\n",
    "uhecr = Uhecr()"
   ]
  },
  {
   "cell_type": "code",
   "execution_count": 2,
   "metadata": {},
   "outputs": [
    {
     "name": "stdout",
     "output_type": "stream",
     "text": [
      "<KeysViewHDF5 ['TA2015', 'auger2010', 'auger2014']>\n",
      "<KeysViewHDF5 ['day', 'dec', 'energy', 'glat', 'glon', 'ra', 'theta', 'year']>\n"
     ]
    }
   ],
   "source": [
    "with h5py.File(uhecr_file, \"r+\") as f:\n",
    "    print(f.keys())\n",
    "    del f[uhecr_label][\"kappa_gmf\"]\n",
    "    print(f[uhecr_label].keys())"
   ]
  },
  {
   "cell_type": "code",
   "execution_count": 3,
   "metadata": {},
   "outputs": [],
   "source": [
    "'''Open the UHECR file'''\n",
    "with h5py.File(uhecr_file, 'r+') as f:\n",
    "\n",
    "    data = f[uhecr_label]\n",
    "    \n",
    "    uhecr.label = uhecr_label\n",
    "    uhecr.year = data['year'][()]\n",
    "    uhecr.day = data['day'][()]\n",
    "    uhecr.zenith_angle = np.deg2rad(data['theta'][()])\n",
    "    uhecr.energy = data['energy'][()]\n",
    "    uhecr.N = len(uhecr.energy)\n",
    "    glon = data['glon'][()]\n",
    "    glat = data['glat'][()]\n",
    "    uhecr.coord = uhecr.get_coordinates(glon, glat)\n",
    "\n",
    "    uhecr.unit_vector = coord_to_uv(uhecr.coord)\n",
    "    uhecr.period = uhecr._find_period()\n",
    "    uhecr.A = uhecr._find_area(1.)"
   ]
  },
  {
   "cell_type": "code",
   "execution_count": 4,
   "metadata": {},
   "outputs": [
    {
     "name": "stderr",
     "output_type": "stream",
     "text": [
      "Precomputing kappa_gmf for each composition: 100%|██████████| 9/9 [00:02<00:00,  3.37it/s]\n"
     ]
    }
   ],
   "source": [
    "'''Build the kappa_gmf tables for all particles given in uhecr.nuc_tables'''\n",
    "uhecr.build_kappa_gmf(uhecr_file, particle_type=\"all\", args=(100, \"PT11\", False))"
   ]
  },
  {
   "cell_type": "code",
   "execution_count": 5,
   "metadata": {},
   "outputs": [
    {
     "name": "stdout",
     "output_type": "stream",
     "text": [
      "<KeysViewHDF5 ['day', 'dec', 'energy', 'glat', 'glon', 'kappa_gmf', 'ra', 'theta', 'year']>\n",
      "kappa_gmf keys:\n",
      "<KeysViewHDF5 ['PT11']>\n",
      "<KeysViewHDF5 ['kappa_gmf', 'kappa_gmf_rand', 'omega_gal', 'omega_rand', 'omega_true']>\n",
      "(72,)\n",
      "<KeysViewHDF5 ['day', 'dec', 'energy', 'glat', 'glon', 'kappa_gmf', 'ra', 'theta', 'year']>\n",
      "kappa_gmf keys:\n",
      "<KeysViewHDF5 ['PT11']>\n",
      "<KeysViewHDF5 ['kappa_gmf', 'kappa_gmf_rand', 'omega_gal', 'omega_rand', 'omega_true']>\n",
      "(72,)\n",
      "<KeysViewHDF5 ['day', 'dec', 'energy', 'glat', 'glon', 'kappa_gmf', 'ra', 'theta', 'year']>\n",
      "kappa_gmf keys:\n",
      "<KeysViewHDF5 ['PT11']>\n",
      "<KeysViewHDF5 ['kappa_gmf', 'kappa_gmf_rand', 'omega_gal', 'omega_rand', 'omega_true']>\n",
      "(72,)\n",
      "<KeysViewHDF5 ['day', 'dec', 'energy', 'glat', 'glon', 'kappa_gmf', 'ra', 'theta', 'year']>\n",
      "kappa_gmf keys:\n",
      "<KeysViewHDF5 ['PT11']>\n",
      "<KeysViewHDF5 ['kappa_gmf', 'kappa_gmf_rand', 'omega_gal', 'omega_rand', 'omega_true']>\n",
      "(72,)\n",
      "<KeysViewHDF5 ['day', 'dec', 'energy', 'glat', 'glon', 'kappa_gmf', 'ra', 'theta', 'year']>\n",
      "kappa_gmf keys:\n",
      "<KeysViewHDF5 ['PT11']>\n",
      "<KeysViewHDF5 ['kappa_gmf', 'kappa_gmf_rand', 'omega_gal', 'omega_rand', 'omega_true']>\n",
      "(72,)\n"
     ]
    }
   ],
   "source": [
    "'''Check if we computed it correctly'''\n",
    "\n",
    "ptypes = [\"p\", \"He\", \"N\", \"Si\", \"Fe\"]\n",
    "\n",
    "gmf_model = \"PT11\"\n",
    "\n",
    "kappa_gmf_list = []\n",
    "lonlats_true_list = []\n",
    "lonlats_rand_list = []\n",
    "lonlats_defl_list = []\n",
    "\n",
    "for ptype in ptypes:\n",
    "    with h5py.File(uhecr_file, \"r\") as f:\n",
    "        print(f[uhecr_label].keys())\n",
    "\n",
    "        print(\"kappa_gmf keys:\")\n",
    "        print(f[uhecr_label][\"kappa_gmf\"].keys())\n",
    "        print(f[uhecr_label][\"kappa_gmf\"][gmf_model][\"p\"].keys())\n",
    "\n",
    "        print(f[uhecr_label][\"kappa_gmf\"][gmf_model][\"p\"][\"kappa_gmf\"][()].shape)\n",
    "\n",
    "\n",
    "        kappa_gmf_list.append(f[uhecr_label][\"kappa_gmf\"][gmf_model][ptype][\"kappa_gmf\"][()])\n",
    "        lonlats_true_list.append(f[uhecr_label][\"kappa_gmf\"][gmf_model][ptype][\"omega_true\"][()])\n",
    "        lonlats_rand_list.append(f[uhecr_label][\"kappa_gmf\"][gmf_model][ptype][\"omega_rand\"][()])\n",
    "        lonlats_defl_list.append(f[uhecr_label][\"kappa_gmf\"][gmf_model][ptype][\"omega_gal\"][()])"
   ]
  },
  {
   "cell_type": "code",
   "execution_count": 6,
   "metadata": {},
   "outputs": [
    {
     "data": {
      "text/plain": [
       "array([5.81038703e-01, 9.85826594e-01, 1.26044200e+01, 3.15225978e+00,\n",
       "       9.43113605e+01, 1.13887647e+01, 8.95404980e+00, 1.02809801e+01,\n",
       "       3.05025244e+00, 2.97321898e+00, 4.73547979e+00, 2.87036842e+00,\n",
       "       2.77254228e+00, 5.53380900e+00, 2.69700112e+01, 1.47654520e+00,\n",
       "       4.25370869e+00, 4.77560821e-01, 3.53749259e+00, 5.80026010e+01,\n",
       "       2.66762325e+00, 4.22353038e+00, 5.29509391e+01, 4.66544738e+00,\n",
       "       1.00000000e-15, 2.50180033e-01, 2.03414737e+00, 1.88515366e+00,\n",
       "       3.38352918e+00, 1.87216855e+00, 4.78570911e-01, 6.94122412e+00,\n",
       "       3.09672253e+00, 3.23357956e+00, 8.24733956e+00, 1.68655603e+00,\n",
       "       1.09080405e+00, 3.37513571e+01, 8.17615469e+00, 8.33649757e+00,\n",
       "       1.19174509e+01, 1.08292573e+00, 4.83440581e+00, 3.45877024e+00,\n",
       "       1.95620598e+00, 2.24564967e+00, 2.54158927e+00, 3.74475261e+00,\n",
       "       3.73019911e+00, 2.53463114e+00, 4.12663877e+00, 2.64674816e+00,\n",
       "       2.28175787e+00, 3.92853007e+02, 3.30261905e+00, 4.36919418e+00,\n",
       "       2.83083820e+00, 7.59808868e+00, 1.00000000e-15, 1.17940316e+01,\n",
       "       4.91203393e+00, 4.28639739e+00, 2.40657706e+00, 6.21586961e+00,\n",
       "       1.83894545e+00, 1.24272936e+00, 3.58330697e-01, 3.99780750e+00,\n",
       "       4.45248072e+00, 2.63734453e+00, 2.18043788e+00, 1.45120935e+00])"
      ]
     },
     "execution_count": 6,
     "metadata": {},
     "output_type": "execute_result"
    }
   ],
   "source": [
    "ptype_idx = int(np.argwhere([ptype == \"Fe\" for ptype in ptypes])[0])\n",
    "\n",
    "# np.all(kappa_gmf_list[ptype_idx] < 0)\n",
    "kappa_gmf_list[ptype_idx]"
   ]
  },
  {
   "cell_type": "code",
   "execution_count": 7,
   "metadata": {},
   "outputs": [
    {
     "data": {
      "image/png": "[encoded data removed]",
      "text/plain": [
       "<Figure size 432x288 with 1 Axes>"
      ]
     },
     "metadata": {
      "needs_background": "light"
     },
     "output_type": "display_data"
    }
   ],
   "source": [
    "import numpy as np\n",
    "import matplotlib.pyplot as plt\n",
    "\n",
    "import scipy.stats as stats\n",
    "\n",
    "x = np.linspace(0, 100, 1000)\n",
    "y = stats.norm.pdf(x, 50, 50)\n",
    "y = y / np.max(y)\n",
    "\n",
    "y1 = stats.norm.pdf(x, 1, 3)\n",
    "y1 = y1 / np.max(y1)\n",
    "\n",
    "fig, ax = plt.subplots(figsize=(6,4))\n",
    "\n",
    "\n",
    "ax.plot(x, y, lw=5.0, color=\"b\", label=\"Loose\")\n",
    "ax.plot(x, y1, lw=5.0, color=\"orange\", label=\"Tight\")\n",
    "ax.set_xlabel(r\"$B$ [$nG$]\", fontsize=14)\n",
    "ax.set_ylabel(r\"$P(B)$\", fontsize=14)\n",
    "\n",
    "# ax.set_xticks(np.arange(0, 70, 10, dtype=int))\n",
    "# ax.set_yticks(np.arange(0, 1.2, 0.2))\n",
    "\n",
    "# ax.set_xticklabels(np.arange(0, 70, 10, dtype=int), fontsize=14)\n",
    "# ax.set_xticklabels(np.arange(0, 1.2, 0.2), fontsize=14)\n",
    "ax.tick_params(axis=\"x\", labelsize=14)\n",
    "ax.tick_params(axis=\"y\", labelsize=14)\n",
    "ax.set_xlim([0, 60])\n",
    "ax.set_ylim([0, 1.1]);\n",
    "# plt.show()\n",
    "\n",
    "ax.spines['right'].set_visible(False)\n",
    "ax.spines['top'].set_visible(False)\n",
    "\n",
    "ax.legend(bbox_to_anchor=(1.1, 1), borderpad=1.0, frameon=False)\n",
    "\n",
    "fig.tight_layout()\n",
    "\n",
    "\n",
    "\n",
    "\n",
    "\n",
    "plt.show()\n",
    "fig.savefig(\"B_gaussian_plot_legend.png\", dpi=300)\n",
    "# help(np.random.normal)"
   ]
  },
  {
   "cell_type": "code",
   "execution_count": null,
   "metadata": {},
   "outputs": [],
   "source": []
  }
 ],
 "metadata": {
  "interpreter": {
   "hash": "aaa20d2ce582278d66521d81a28542c55ff4d6c5d993618f8af371f227d5fd3e"
  },
  "kernelspec": {
   "display_name": "Python 3.8.5 ('uhecr_env')",
   "language": "python",
   "name": "python3"
  },
  "language_info": {
   "codemirror_mode": {
    "name": "ipython",
    "version": 3
   },
   "file_extension": ".py",
   "mimetype": "text/x-python",
   "name": "python",
   "nbconvert_exporter": "python",
   "pygments_lexer": "ipython3",
   "version": "3.8.5"
  },
  "orig_nbformat": 4
 },
 "nbformat": 4,
 "nbformat_minor": 2
}
