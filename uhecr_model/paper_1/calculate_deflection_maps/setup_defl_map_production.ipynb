{
 "cells": [
  {
   "cell_type": "markdown",
   "metadata": {},
   "source": [
    "# Create a submission script for mass production of deflection maps on a condor cluster"
   ]
  },
  {
   "cell_type": "code",
   "execution_count": 6,
   "metadata": {},
   "outputs": [],
   "source": [
    "from itertools import product"
   ]
  },
  {
   "cell_type": "code",
   "execution_count": 7,
   "metadata": {},
   "outputs": [],
   "source": [
    "template = \"\"\"Executable      = condor_runner.sh\n",
    "Universe        = vanilla\n",
    "#request_gpus   = 1\n",
    "request_cpus    = 1\n",
    "request_memory  = 2 GB\n",
    "run_as_owner    = True\n",
    "Error           = logs/err\n",
    "Output          = logs/out\n",
    "Log             = logs/log\n",
    "\"\"\"\n",
    "\n",
    "# environment = \"MKL_NUM_THREADS=1 MKL_DEBUG_CPU_TYPE=5\""
   ]
  },
  {
   "cell_type": "code",
   "execution_count": 11,
   "metadata": {},
   "outputs": [],
   "source": [
    "detector_types = [\"auger2014\", \"TA2015\"]\n",
    "ptypes = [\"p\", \"He\", \"C\", \"N\", \"Si\", \"Fe\"]\n",
    "gmf_types = [\"JF12\", \"TF17\"]\n",
    "seeds = [19990308]\n",
    "\n",
    "submit_file = template + \"\\n\"\n",
    "n_jobs = 0\n",
    "for dt, pt, gmf, seed in product(detector_types, ptypes, gmf_types, seeds):\n",
    "    submit_file += f\"Arguments = --detector={dt} --ptype={pt} \"\n",
    "    submit_file += f\"--gmf={gmf} --random_seed={seed}\\nQueue\\n\"\n",
    "    n_jobs += 1"
   ]
  },
  {
   "cell_type": "code",
   "execution_count": 12,
   "metadata": {},
   "outputs": [
    {
     "name": "stdout",
     "output_type": "stream",
     "text": [
      "The submit file contains 24 jobs.\n"
     ]
    }
   ],
   "source": [
    "print(f\"The submit file contains {n_jobs} jobs.\")"
   ]
  },
  {
   "cell_type": "code",
   "execution_count": 14,
   "metadata": {},
   "outputs": [
    {
     "name": "stdout",
     "output_type": "stream",
     "text": [
      "Executable      = condor_runner.sh\n",
      "Universe        = vanilla\n",
      "#request_gpus   = 1\n",
      "request_cpus    = 1\n",
      "request_memory  = 2 GB\n",
      "run_as_owner    = True\n",
      "Error           = logs/err\n",
      "Output          = logs/out\n",
      "Log             = logs/log\n",
      "\n",
      "Arguments = --detector=auger2014 --ptype=p --gmf=JF12 --random_seed=19990308\n",
      "Queue\n",
      "Arguments = --detector=auger2014 --ptype=p --gmf=TF17 --random_seed=19990308\n",
      "Queue\n",
      "Arguments = --detector=auger2014 --ptype=He --gmf=JF12 --random_seed=19990308\n",
      "Queue\n",
      "Arguments = --detector=auger2014 --ptype=He --gmf=TF17 --random_seed=19990308\n",
      "Queue\n",
      "Arguments = --detector=auger2014 --ptype=C --gmf=JF12 --random_seed=19990308\n",
      "Queue\n",
      "Arguments = --detector=auger2014 --ptype=C --gmf=TF17 --random_seed=19990308\n",
      "Queue\n",
      "Arguments = --detector=auger2014 --ptype=N --gmf=JF12 --random_seed=19990308\n",
      "Queue\n",
      "Arguments = --detector=auger2014 --ptype=N --gmf=TF17 --random_seed=19990308\n",
      "Queue\n",
      "Arguments = --detector=auger2014 --ptype=Si --gmf=JF12 --random_seed=19990308\n",
      "Queue\n",
      "Arguments = --detector=auger2014 --ptype=Si --gmf=TF17 --random_seed=19990308\n",
      "Queue\n",
      "Arguments = --detector=auger2014 --ptype=Fe --gmf=JF12 --random_seed=19990308\n",
      "Queue\n",
      "Arguments = --detector=auger2014 --ptype=Fe --gmf=TF17 --random_seed=19990308\n",
      "Queue\n",
      "Arguments = --detector=TA2015 --ptype=p --gmf=JF12 --random_seed=19990308\n",
      "Queue\n",
      "Arguments = --detector=TA2015 --ptype=p --gmf=TF17 --random_seed=19990308\n",
      "Queue\n",
      "Arguments = --detector=TA2015 --ptype=He --gmf=JF12 --random_seed=19990308\n",
      "Queue\n",
      "Arguments = --detector=TA2015 --ptype=He --gmf=TF17 --random_seed=19990308\n",
      "Queue\n",
      "Arguments = --detector=TA2015 --ptype=C --gmf=JF12 --random_seed=19990308\n",
      "Queue\n",
      "Arguments = --detector=TA2015 --ptype=C --gmf=TF17 --random_seed=19990308\n",
      "Queue\n",
      "Arguments = --detector=TA2015 --ptype=N --gmf=JF12 --random_seed=19990308\n",
      "Queue\n",
      "Arguments = --detector=TA2015 --ptype=N --gmf=TF17 --random_seed=19990308\n",
      "Queue\n",
      "Arguments = --detector=TA2015 --ptype=Si --gmf=JF12 --random_seed=19990308\n",
      "Queue\n",
      "Arguments = --detector=TA2015 --ptype=Si --gmf=TF17 --random_seed=19990308\n",
      "Queue\n",
      "Arguments = --detector=TA2015 --ptype=Fe --gmf=JF12 --random_seed=19990308\n",
      "Queue\n",
      "Arguments = --detector=TA2015 --ptype=Fe --gmf=TF17 --random_seed=19990308\n",
      "Queue\n",
      "\n"
     ]
    }
   ],
   "source": [
    "with open('submit_defl_maps.condor', \"w\") as f:\n",
    "    f.write(submit_file)\n",
    "print(submit_file)"
   ]
  },
  {
   "cell_type": "code",
   "execution_count": null,
   "metadata": {},
   "outputs": [],
   "source": []
  }
 ],
 "metadata": {
  "interpreter": {
   "hash": "aaa20d2ce582278d66521d81a28542c55ff4d6c5d993618f8af371f227d5fd3e"
  },
  "kernelspec": {
   "display_name": "Python 3.8.5 ('uhecr_env')",
   "language": "python",
   "name": "python3"
  },
  "language_info": {
   "codemirror_mode": {
    "name": "ipython",
    "version": 3
   },
   "file_extension": ".py",
   "mimetype": "text/x-python",
   "name": "python",
   "nbconvert_exporter": "python",
   "pygments_lexer": "ipython3",
   "version": "3.8.5"
  },
  "orig_nbformat": 4
 },
 "nbformat": 4,
 "nbformat_minor": 2
}
