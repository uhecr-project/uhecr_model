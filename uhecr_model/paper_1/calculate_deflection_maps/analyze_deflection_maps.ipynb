{
 "cells": [
  {
   "cell_type": "markdown",
   "metadata": {},
   "source": [
    "# Analyze deflection maps and fill kappa_d tables"
   ]
  },
  {
   "cell_type": "code",
   "execution_count": 3,
   "metadata": {},
   "outputs": [],
   "source": [
    "import os\n",
    "import pickle\n",
    "import h5py\n",
    "import numpy as np\n",
    "import matplotlib.pyplot as plt\n",
    "import matplotlib as mpl\n",
    "mpl.rcParams['figure.dpi'] = 150"
   ]
  },
  {
   "cell_type": "code",
   "execution_count": 4,
   "metadata": {},
   "outputs": [
    {
     "name": "stdout",
     "output_type": "stream",
     "text": [
      "Simulations available for:\n",
      "['TA2015', 'auger2014'] ['TF17', 'JF12'] ['He', 'Fe', 'C', 'p', 'Si', 'N']\n"
     ]
    }
   ],
   "source": [
    "detectors = []\n",
    "gmfs = []\n",
    "ptypes = []\n",
    "\n",
    "for f in os.listdir('output'):\n",
    "    d, m ,p = f.split('_')[1:4]\n",
    "    detectors.append(d)\n",
    "    gmfs.append(m)\n",
    "    ptypes.append(p)\n",
    "\n",
    "detectors = list(set(detectors))\n",
    "gmfs = list(set(gmfs))\n",
    "ptypes = list(set(ptypes))\n",
    "\n",
    "print('Simulations available for:')\n",
    "print(detectors, gmfs, ptypes)\n",
    "file_templ = 'output/defl_{0}_{1}_{2}_19990308.pkl'\n"
   ]
  },
  {
   "cell_type": "code",
   "execution_count": null,
   "metadata": {},
   "outputs": [],
   "source": [
    "# defl_lons = omega_gal[...,0]\n",
    "# defl_lats = omega_gal[...,1]"
   ]
  },
  {
   "cell_type": "code",
   "execution_count": 25,
   "metadata": {},
   "outputs": [],
   "source": [
    "use_temp = True\n",
    "if use_temp:\n",
    "    import tempfile\n",
    "    outfile = tempfile.mktemp()\n",
    "else:\n",
    "    outfile = \"../../data/UHECRdata.h5\"\n",
    "    "
   ]
  },
  {
   "cell_type": "code",
   "execution_count": 26,
   "metadata": {},
   "outputs": [],
   "source": [
    "# # Fill deflection info into \"Database\"\n",
    "# with h5py.File(outfile, \"a\") as f:\n",
    "#     for dt in detectors:\n",
    "#         if dt not in f:\n",
    "#             uhecr_dataset_group = f.create_group(dt)\n",
    "#         else:\n",
    "#             uhecr_dataset_group = f[dt]\n",
    "#         if \"kappa_gmf\" in uhecr_dataset_group:\n",
    "#             del uhecr_dataset_group[\"kappa_gmf\"]\n",
    "#         kappa_gmf_group = uhecr_dataset_group.create_group(\"kappa_gmf\")\n",
    "#         for mf in gmfs:\n",
    "#             gmf_field_group = kappa_gmf_group.create_group(mf)\n",
    "#             for ip, pt in enumerate(['p', 'He', 'C', 'N', 'Si', 'Fe']):\n",
    "#                 particle_group = gmf_field_group.create_group(pt)\n",
    "#                 curr_gr = particle_group\n",
    "#                 (\n",
    "#                     kappa_gmf,\n",
    "#                     omega_gal,\n",
    "#                     omega_rand,\n",
    "#                     omega_true,\n",
    "#                     kappa_gmf_rand,\n",
    "#                     cos_thetas,\n",
    "#                     time_delays,\n",
    "#                 ) = pickle.load(open(file_templ.format(dt, mf, pt), \"rb\"))\n",
    "#                 particle_group.create_dataset(\"kappa_gmf\", data=kappa_gmf)\n",
    "#                 particle_group.create_dataset(\"omega_gal\", data=omega_gal)\n",
    "#                 particle_group.create_dataset(\"omega_rand\", data=omega_rand)\n",
    "#                 particle_group.create_dataset(\"omega_true\", data=omega_true)\n",
    "#                 particle_group.create_dataset(\"kappa_gmf_rand\", data=kappa_gmf_rand)\n",
    "                "
   ]
  },
  {
   "cell_type": "code",
   "execution_count": 27,
   "metadata": {},
   "outputs": [
    {
     "name": "stdout",
     "output_type": "stream",
     "text": [
      "<KeysViewHDF5 ['kappa_gmf', 'kappa_gmf_rand', 'omega_gal', 'omega_rand', 'omega_true']>\n"
     ]
    }
   ],
   "source": [
    "# Checks\n",
    "with h5py.File(outfile, \"r\") as f:\n",
    "    print(f['TA2015']['kappa_gmf']['TF17']['p'].keys())"
   ]
  },
  {
   "cell_type": "code",
   "execution_count": null,
   "metadata": {},
   "outputs": [],
   "source": []
  }
 ],
 "metadata": {
  "interpreter": {
   "hash": "aaa20d2ce582278d66521d81a28542c55ff4d6c5d993618f8af371f227d5fd3e"
  },
  "kernelspec": {
   "display_name": "Python 3.8.5 ('uhecr_env')",
   "language": "python",
   "name": "python3"
  },
  "language_info": {
   "codemirror_mode": {
    "name": "ipython",
    "version": 3
   },
   "file_extension": ".py",
   "mimetype": "text/x-python",
   "name": "python",
   "nbconvert_exporter": "python",
   "pygments_lexer": "ipython3",
   "version": "3.8.5"
  },
  "orig_nbformat": 4
 },
 "nbformat": 4,
 "nbformat_minor": 2
}
