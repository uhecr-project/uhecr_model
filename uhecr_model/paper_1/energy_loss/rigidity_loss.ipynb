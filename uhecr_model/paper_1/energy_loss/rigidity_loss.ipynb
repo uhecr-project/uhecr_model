{
 "cells": [
  {
   "attachments": {},
   "cell_type": "markdown",
   "metadata": {},
   "source": [
    "# ~~Energy~~ Rigidity loss calculation with CRPropa3 \n",
    "\n",
    "Based on the notebook `energy_loss.ipynb` but now doing instead for rigidity.\n",
    "\n",
    "Based on this example for 1D simulation: https://crpropa.github.io/CRPropa3/pages/example_notebooks/sim1D/sim1D.v4.html"
   ]
  },
  {
   "cell_type": "code",
   "execution_count": 1,
   "metadata": {},
   "outputs": [],
   "source": [
    "import numpy as np\n",
    "from matplotlib import pyplot as plt\n",
    "from astropy import units as u\n",
    "import h5py\n",
    "\n",
    "from crpropa import *"
   ]
  },
  {
   "attachments": {},
   "cell_type": "markdown",
   "metadata": {},
   "source": [
    "## Run the CRPropa3 Simulation for each Particle type\n",
    "\n",
    "Do so so that we can observe the Rigidity effect with different nuclei."
   ]
  },
  {
   "cell_type": "code",
   "execution_count": 2,
   "metadata": {},
   "outputs": [],
   "source": [
    "# initial settings\n",
    "D_src = 10   # Mpc\n",
    "R_src = 10  # 10 EV\n",
    "\n",
    "# particles to simulate\n",
    "known_ptypes = {\n",
    "    \"p\": (1, 1),\n",
    "    \"He\": (4, 2),\n",
    "    \"N\" : (14, 7),\n",
    "    \"Si\" : (28, 14),\n",
    "    \"Fe\" : (56, 26)\n",
    "}\n",
    "\n",
    "# number of source particless\n",
    "N = 10_000"
   ]
  },
  {
   "cell_type": "code",
   "execution_count": 3,
   "metadata": {},
   "outputs": [
    {
     "name": "stdout",
     "output_type": "stream",
     "text": [
      "crpropa::ModuleList: Number of Threads: 128\n",
      "Run ModuleList\n",
      "  Started Wed Feb  8 14:32:04 2023 : [\u001b[1;32m Finished \u001b[0m] 100%    Needed: 00:00:00  - Finished at Wed Feb  8 14:32:04 2023\n",
      "crpropa::ModuleList: Number of Threads: 128\n",
      "Run ModuleList\n",
      "  Started Wed Feb  8 14:32:07 2023 : [\u001b[1;32m Finished \u001b[0m] 100%    Needed: 00:00:00  - Finished at Wed Feb  8 14:32:07 2023\n",
      "crpropa::ModuleList: Number of Threads: 128\n",
      "Run ModuleList\n",
      "  Started Wed Feb  8 14:32:10 2023 : [\u001b[1;32m Finished \u001b[0m] 100%    Needed: 00:00:01  - Finished at Wed Feb  8 14:32:11 2023\n",
      "crpropa::ModuleList: Number of Threads: 128\n",
      "Run ModuleList\n",
      "  Started Wed Feb  8 14:32:14 2023 : [\u001b[1;32m Finished \u001b[0m] 100%    Needed: 00:00:00  - Finished at Wed Feb  8 14:32:14 2023\n",
      "crpropa::ModuleList: Number of Threads: 128\n",
      "Run ModuleList\n",
      "  Started Wed Feb  8 14:32:17 2023 : [\u001b[1;32m Finished \u001b[0m] 100%    Needed: 00:00:01  - Finished at Wed Feb  8 14:32:18 2023\n",
      "\r"
     ]
    }
   ],
   "source": [
    "# iterate over each particle type\n",
    "for i, (pt, ptup) in enumerate(list(known_ptypes.items())):\n",
    "\n",
    "    # create simulation\n",
    "    sim = ModuleList()\n",
    "    sim.add( SimplePropagation(1*kpc, 10*Mpc) )\n",
    "    sim.add( Redshift() )\n",
    "    sim.add( PhotoPionProduction(CMB()) )\n",
    "    sim.add( PhotoPionProduction(IRB_Kneiske04()) )\n",
    "    sim.add( PhotoDisintegration(CMB()) )\n",
    "    sim.add( PhotoDisintegration(IRB_Kneiske04()) )\n",
    "    sim.add( NuclearDecay() )\n",
    "    sim.add( ElectronPairProduction(CMB()) )\n",
    "    sim.add( ElectronPairProduction(IRB_Kneiske04()) )\n",
    "    sim.add( MinimumEnergy( 1 * EeV) )\n",
    "\n",
    "    # observer and output\n",
    "    obs = Observer()\n",
    "    obs.add( ObserverPoint() )\n",
    "    output = TextOutput(f'output/crpropa_events_{pt}.txt', Output.Event1D)\n",
    "    obs.onDetection( output )\n",
    "    sim.add( obs )\n",
    "\n",
    "    # source\n",
    "    source = Source()\n",
    "    source.add( SourcePosition(D_src * Mpc) )\n",
    "    source.add( SourceRedshift1D() )\n",
    "    source_ptype = nucleusId(*ptup) \n",
    "    # evaluate source energy from R * Z\n",
    "    E_src = R_src * ptup[1]\n",
    "    source.add( SourceEnergy(E_src * EeV) )\n",
    "    source.add( SourceParticleType(source_ptype) ) \n",
    "\n",
    "    # run simulation\n",
    "    sim.setShowProgress(True)\n",
    "    sim.run(source, N, True)\n",
    "    output.close()\n"
   ]
  },
  {
   "attachments": {},
   "cell_type": "markdown",
   "metadata": {},
   "source": [
    "## Get output and analyze"
   ]
  },
  {
   "cell_type": "code",
   "execution_count": 4,
   "metadata": {},
   "outputs": [],
   "source": [
    "# define arrays\n",
    "Z_ptypes = []\n",
    "Z0_ptypes = []\n",
    "A_ptypes = []\n",
    "A0_ptypes = []\n",
    "E_ptypes = []\n",
    "E0_ptypes = []"
   ]
  },
  {
   "cell_type": "code",
   "execution_count": 5,
   "metadata": {},
   "outputs": [
    {
     "name": "stdout",
     "output_type": "stream",
     "text": [
      "Particle fraction at arrival: 1.00\n",
      "Particle fraction at arrival: 1.16\n",
      "Particle fraction at arrival: 3.80\n",
      "Particle fraction at arrival: 5.92\n",
      "Particle fraction at arrival: 12.12\n"
     ]
    }
   ],
   "source": [
    "# iterate over each particle type\n",
    "for i, pt in enumerate(list(known_ptypes.keys())):\n",
    "    # get datafile\n",
    "    sim_data = np.genfromtxt(f'output/crpropa_events_{pt}.txt', names=True)\n",
    "\n",
    "    # Observed quantities\n",
    "    Z = np.array([chargeNumber(int(id)) for id in sim_data['ID'].astype(int)])  # element\n",
    "    Z0 = np.array([chargeNumber(int(id)) for id in sim_data['ID0'].astype(int)])\n",
    "    A = np.array([massNumber(int(id)) for id in sim_data['ID'].astype(int)])  # atomic mass number\n",
    "    A0 = np.array([massNumber(int(id)) for id in sim_data['ID0'].astype(int)])\n",
    "    log10E = np.log10(sim_data['E']) + 18  # energy in log10(E/eV))\n",
    "    log10E0 = np.log10(sim_data['E0']) + 18  # energy in log10(E/eV))\n",
    "    E = 10**log10E\n",
    "    E0 = 10**log10E0\n",
    "\n",
    "    # How many final particles per source particles\n",
    "    Nout = len(Z)\n",
    "    print(f\"Particle fraction at arrival: {Nout / N:.2f}\")\n",
    "\n",
    "    # append all into list\n",
    "    Z_ptypes.append(Z)\n",
    "    Z0_ptypes.append(Z0)\n",
    "    A_ptypes.append(A)\n",
    "    A0_ptypes.append(A0)\n",
    "    E_ptypes.append(E)\n",
    "    E0_ptypes.append(E0)"
   ]
  },
  {
   "attachments": {},
   "cell_type": "markdown",
   "metadata": {},
   "source": [
    "### Plot rigidity fraction, Rsrc / Rarr"
   ]
  },
  {
   "cell_type": "code",
   "execution_count": 6,
   "metadata": {},
   "outputs": [
    {
     "data": {
      "image/png": "[encoded data removed]",
      "text/plain": [
       "<Figure size 720x432 with 1 Axes>"
      ]
     },
     "metadata": {
      "needs_background": "light"
     },
     "output_type": "display_data"
    }
   ],
   "source": [
    "# plot rigidity fraction, normalized by number of particles\n",
    "\n",
    "xlims = [\n",
    "    [0.5, 1.0], [0.4, 0.6], [0.45, 1.2], [0.4, 1.2], [0.4, 1.1]\n",
    "]\n",
    "\n",
    "# plot histogram\n",
    "fig, ax = plt.subplots(figsize=(10,6))\n",
    "\n",
    "# rigidity fraction\n",
    "for i, pt in enumerate(list(known_ptypes.keys())):\n",
    "    # first evaluate rigidities\n",
    "    # we want rigidity of all charged particles (rigidity of neutron == 0)\n",
    "    Z_nonzero_idces = np.argwhere(Z_ptypes[i] != 0)\n",
    "    R = E_ptypes[i][Z_nonzero_idces] / Z_ptypes[i][Z_nonzero_idces]\n",
    "\n",
    "    # do similarly for R0 to match indices\n",
    "    R0 = E0_ptypes[i][Z_nonzero_idces] / Z0_ptypes[i][Z_nonzero_idces]\n",
    "\n",
    "    # rigidity fraction\n",
    "    Rfrac = R / R0\n",
    "\n",
    "    # total number of particles different for each particle type\n",
    "    N_arr = len(Rfrac)\n",
    "\n",
    "    # divide by total number of particles\n",
    "    weights = (1. / N_arr) * np.ones(N_arr)\n",
    "\n",
    "    # set bins by minimum and maximal rigidity fraction\n",
    "    bins = np.linspace(np.min(Rfrac), np.max(Rfrac))\n",
    "\n",
    "    ax.hist(Rfrac, bins=50, alpha=0.5, weights = weights, label=f\"{pt}\");\n",
    "    ax.set_xlabel(\"Rarr / Rsrc\")\n",
    "    ax.set_title(f\"Rarr / Rsrc for D = {D_src} Mpc, Rsrc = {R_src} EV\")\n",
    "\n",
    "    ax.set_xlim(xlims[i])\n",
    "    ax.legend()"
   ]
  },
  {
   "attachments": {},
   "cell_type": "markdown",
   "metadata": {},
   "source": [
    "### Plot Rigidity fraction, Rarr / Rsrc for all particles A / Z > 1"
   ]
  },
  {
   "cell_type": "code",
   "execution_count": 8,
   "metadata": {},
   "outputs": [
    {
     "data": {
      "image/png": "[encoded data removed]",
      "text/plain": [
       "<Figure size 720x432 with 1 Axes>"
      ]
     },
     "metadata": {
      "needs_background": "light"
     },
     "output_type": "display_data"
    }
   ],
   "source": [
    "# plot rigidity fraction, normalized by number of particles, for A / Z > 1 (nuclei)\n",
    "\n",
    "# plot histogram\n",
    "fig, ax = plt.subplots(figsize=(10,6))\n",
    "\n",
    "# rigidity fraction \n",
    "for i, pt in enumerate(list(known_ptypes.keys())):\n",
    "    if pt == \"p\":\n",
    "        continue\n",
    "    # first evaluate rigidities\n",
    "    # we want rigidity of all charged particles (rigidity of neutron == 0)\n",
    "    Z_nonzero_idces = np.argwhere(Z_ptypes[i] != 0)\n",
    "    R = E_ptypes[i][Z_nonzero_idces] / Z_ptypes[i][Z_nonzero_idces]\n",
    "\n",
    "    # do similarly for R0 to match indices\n",
    "    R0 = E0_ptypes[i][Z_nonzero_idces] / Z0_ptypes[i][Z_nonzero_idces]\n",
    "\n",
    "    # rigidity fraction\n",
    "    Rfrac = R / R0\n",
    "\n",
    "    # cutoff Rfrac such that we only plot those with A / Z > 1\n",
    "    Rfrac = Rfrac[A_ptypes[i][Z_nonzero_idces] > 1]\n",
    "\n",
    "    # total number of particles different for each particle type\n",
    "    N_arr = len(Rfrac)\n",
    "\n",
    "    # divide by total number of particles\n",
    "    weights = (1. / N_arr) * np.ones(N_arr)\n",
    "\n",
    "    # set bins by minimum and maximal rigidity fraction\n",
    "    bins = np.linspace(np.min(Rfrac), np.max(Rfrac), 20)\n",
    "\n",
    "    ax.hist(Rfrac, bins=bins, alpha=0.5, weights = weights, label=f\"{pt}\", zorder=4-i);\n",
    "    ax.set_xlabel(\"Rarr / Rsrc for A > 1\")\n",
    "    ax.set_title(f\"Rarr / Rsrc for A > 1, D = {D_src} Mpc, Rsrc = {R_src} EV\")\n",
    "\n",
    "    ax.set_xlim([0.5, 1.3])\n",
    "    ax.legend()"
   ]
  },
  {
   "attachments": {},
   "cell_type": "markdown",
   "metadata": {},
   "source": [
    "## Other histograms can be plotted below\n",
    "\n",
    "Commented out for now"
   ]
  },
  {
   "cell_type": "code",
   "execution_count": 28,
   "metadata": {},
   "outputs": [],
   "source": [
    "# # mass number\n",
    "# for i, pt in enumerate(list(known_ptypes.keys())):\n",
    "#     fig, ax = plt.subplots()\n",
    "#     ax.hist(A0_ptypes[i], alpha=0.5, label=\"Mass number (source)\")\n",
    "#     ax.hist(A_ptypes[i], alpha=0.5, label=\"Mass number (arrival)\")\n",
    "#     ax.set_xlabel(\"Mass Number\")\n",
    "#     ax.set_xlim(xmax=known_ptypes[pt][0] + 5)\n",
    "#     ax.set_title(f\"Mass Number distribution for {pt}\")\n",
    "#     ax.legend()"
   ]
  },
  {
   "cell_type": "code",
   "execution_count": 29,
   "metadata": {},
   "outputs": [],
   "source": [
    "# # charge number\n",
    "# for i, pt in enumerate(list(known_ptypes.keys())):\n",
    "#     fig, ax = plt.subplots()\n",
    "#     ax.hist(Z0_ptypes[i], alpha=0.5, label=\"Charge (source)\");\n",
    "#     ax.hist(Z_ptypes[i], alpha=0.5, label=\"Charge (arrival)\");\n",
    "#     ax.set_xlabel(\"Charge\")\n",
    "#     ax.set_xlim(xmax=known_ptypes[pt][1] + 5)\n",
    "#     ax.set_title(f\"Charge distribution for {pt}\")\n",
    "#     ax.legend()"
   ]
  },
  {
   "cell_type": "code",
   "execution_count": 30,
   "metadata": {},
   "outputs": [],
   "source": [
    "# # energy\n",
    "# Emin = 0.1 * u.EeV\n",
    "# Emax = 1e5 * u.EeV\n",
    "# E_range = 10**np.linspace(np.log10(Emin.to_value(u.eV)), np.log10(Emax.to_value(u.eV)))\n",
    "\n",
    "# for i, pt in enumerate(list(known_ptypes.keys())):\n",
    "#     fig, ax = plt.subplots()\n",
    "#     ax.hist(E0_ptypes[i], bins=E_range, alpha=0.5, label=\"Energy (source)\");\n",
    "#     ax.hist(E_ptypes[i], bins=E_range, alpha=0.5, label=\"Energy (arrival)\");\n",
    "#     ax.axvline(57e18, color=\"k\", label=\"Threshold energy (TA15)\", linestyle=\":\")\n",
    "#     ax.set_yscale(\"log\")\n",
    "#     ax.set_xscale(\"log\")\n",
    "#     ax.set_xlabel(\"E / eV\")\n",
    "#     ax.set_title(f\"Energy distribution for {pt}\")\n",
    "#     ax.legend()"
   ]
  },
  {
   "cell_type": "code",
   "execution_count": 31,
   "metadata": {},
   "outputs": [],
   "source": [
    "# # energy per nucleon\n",
    "# Emin = 0.1 * u.EeV\n",
    "# Emax = 1e5 * u.EeV\n",
    "# E_range = 10**np.linspace(np.log10(Emin.to_value(u.eV)), np.log10(Emax.to_value(u.eV)))\n",
    "\n",
    "# for i, pt in enumerate(list(known_ptypes.keys())):\n",
    "#     fig, ax = plt.subplots()\n",
    "#     ax.hist(E0_ptypes[i] / A0_ptypes[i], bins=E_range, alpha=0.5, label=\"E / A (source)\");\n",
    "#     ax.hist(E_ptypes[i] / A_ptypes[i], bins=E_range, alpha=0.5, label=\"E / A (arrival)\");\n",
    "#     ax.axvline(57e18 / known_ptypes[pt][0], color=\"k\", label=\"E_thr / A0 (TA15)\", linestyle=\":\")\n",
    "#     ax.set_yscale(\"log\")\n",
    "#     ax.set_xscale(\"log\")\n",
    "#     ax.set_xlabel(\"E / A\")\n",
    "#     ax.set_title(f\"Energy per nucleon distribution for {pt}, D = {D_src} Mpc\")\n",
    "#     ax.legend()"
   ]
  }
 ],
 "metadata": {
  "kernelspec": {
   "display_name": "uhecr_env1",
   "language": "python",
   "name": "python3"
  },
  "language_info": {
   "codemirror_mode": {
    "name": "ipython",
    "version": 3
   },
   "file_extension": ".py",
   "mimetype": "text/x-python",
   "name": "python",
   "nbconvert_exporter": "python",
   "pygments_lexer": "ipython3",
   "version": "3.9.13"
  },
  "orig_nbformat": 4,
  "vscode": {
   "interpreter": {
    "hash": "33932bf97fded9331f6b3f8563e9716582545b706dba662084ef11a9ae655a9e"
   }
  }
 },
 "nbformat": 4,
 "nbformat_minor": 2
}
