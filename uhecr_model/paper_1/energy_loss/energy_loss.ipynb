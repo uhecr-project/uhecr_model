{
 "cells": [
  {
   "cell_type": "markdown",
   "metadata": {},
   "source": [
    "# Energy loss calculation with CRPropa3 \n",
    "\n",
    "Based on this example for 1D simulation: https://crpropa.github.io/CRPropa3/pages/example_notebooks/sim1D/sim1D.v4.html"
   ]
  },
  {
   "cell_type": "code",
   "execution_count": 1,
   "metadata": {},
   "outputs": [],
   "source": [
    "import numpy as np\n",
    "from matplotlib import pyplot as plt\n",
    "from astropy import units as u\n",
    "import h5py\n",
    "\n",
    "from crpropa import *"
   ]
  },
  {
   "cell_type": "markdown",
   "metadata": {},
   "source": [
    "## Testbench"
   ]
  },
  {
   "cell_type": "markdown",
   "metadata": {},
   "source": [
    "Simulation setup"
   ]
  },
  {
   "cell_type": "code",
   "execution_count": 29,
   "metadata": {},
   "outputs": [],
   "source": [
    "sim = ModuleList()\n",
    "sim.add( SimplePropagation(1*kpc, 10*Mpc) )\n",
    "sim.add( Redshift() )\n",
    "sim.add( PhotoPionProduction(CMB()) )\n",
    "sim.add( PhotoPionProduction(IRB_Kneiske04()) )\n",
    "sim.add( PhotoDisintegration(CMB()) )\n",
    "sim.add( PhotoDisintegration(IRB_Kneiske04()) )\n",
    "sim.add( NuclearDecay() )\n",
    "sim.add( ElectronPairProduction(CMB()) )\n",
    "sim.add( ElectronPairProduction(IRB_Kneiske04()) )\n",
    "sim.add( MinimumEnergy( 10 * EeV) )"
   ]
  },
  {
   "cell_type": "markdown",
   "metadata": {},
   "source": [
    "Observer and output"
   ]
  },
  {
   "cell_type": "code",
   "execution_count": 30,
   "metadata": {},
   "outputs": [],
   "source": [
    "obs = Observer()\n",
    "obs.add( ObserverPoint() )\n",
    "output = TextOutput('output/crpropa_events.txt', Output.Event1D)\n",
    "obs.onDetection( output )\n",
    "sim.add( obs )"
   ]
  },
  {
   "cell_type": "markdown",
   "metadata": {},
   "source": [
    "Source"
   ]
  },
  {
   "cell_type": "code",
   "execution_count": 61,
   "metadata": {},
   "outputs": [],
   "source": [
    "source = Source()\n",
    "source.add( SourcePosition(50 * Mpc) )\n",
    "source.add( SourceRedshift1D() )\n",
    "\n",
    "#particle_type = nucleusId(1, 1) # proton\n",
    "particle_type = nucleusId(14, 7) # N-14\n",
    "\n",
    "source.add( SourceEnergy(100 * EeV) )\n",
    "source.add( SourceParticleType(particle_type) ) "
   ]
  },
  {
   "cell_type": "markdown",
   "metadata": {},
   "source": [
    "Run simulation"
   ]
  },
  {
   "cell_type": "code",
   "execution_count": 62,
   "metadata": {},
   "outputs": [
    {
     "name": "stdout",
     "output_type": "stream",
     "text": [
      "crpropa::ModuleList: Number of Threads: 56\n",
      "Run ModuleList\n",
      "  Started Sun Sep 11 13:16:52 2022 : [\u001b[1;32m Finished \u001b[0m] 100%    Needed: 00:00:00  - Finished at Sun Sep 11 13:16:52 2022\n",
      "\r"
     ]
    }
   ],
   "source": [
    "N = 10_000\n",
    "sim.setShowProgress(True)\n",
    "sim.run(source, N, True)\n",
    "output.close()"
   ]
  },
  {
   "cell_type": "markdown",
   "metadata": {},
   "source": [
    "Analyse results"
   ]
  },
  {
   "cell_type": "code",
   "execution_count": 63,
   "metadata": {},
   "outputs": [],
   "source": [
    "output.close()\n",
    "sim_data = np.genfromtxt('output/crpropa_events.txt', names=True)"
   ]
  },
  {
   "cell_type": "code",
   "execution_count": 64,
   "metadata": {},
   "outputs": [],
   "source": [
    "# Observed quantities\n",
    "Z = np.array([chargeNumber(int(id)) for id in sim_data['ID'].astype(int)])  # element\n",
    "Z0 = np.array([chargeNumber(int(id)) for id in sim_data['ID0'].astype(int)])\n",
    "A = np.array([massNumber(int(id)) for id in sim_data['ID'].astype(int)])  # atomic mass number\n",
    "A0 = np.array([massNumber(int(id)) for id in sim_data['ID0'].astype(int)])\n",
    "log10E = np.log10(sim_data['E']) + 18  # energy in log10(E/eV))\n",
    "log10E0 = np.log10(sim_data['E0']) + 18  # energy in log10(E/eV))\n",
    "E = 10**log10E\n",
    "E0 = 10**log10E0"
   ]
  },
  {
   "cell_type": "code",
   "execution_count": 65,
   "metadata": {},
   "outputs": [
    {
     "data": {
      "text/plain": [
       "1.7498"
      ]
     },
     "execution_count": 65,
     "metadata": {},
     "output_type": "execute_result"
    }
   ],
   "source": [
    "# How many final particles per source particles\n",
    "Nout = len(Z)\n",
    "\n",
    "Nout / N"
   ]
  },
  {
   "cell_type": "code",
   "execution_count": 66,
   "metadata": {},
   "outputs": [
    {
     "data": {
      "image/png": "[encoded data removed]",
      "text/plain": [
       "<Figure size 432x288 with 1 Axes>"
      ]
     },
     "metadata": {
      "needs_background": "light"
     },
     "output_type": "display_data"
    }
   ],
   "source": [
    "# How much N-14 left at end?\n",
    "fig, ax = plt.subplots()\n",
    "ax.hist(A0, alpha=0.5, label=\"Mass number (source)\");\n",
    "ax.hist(A, alpha=0.5, label=\"Mass number (arrival)\");\n"
   ]
  },
  {
   "cell_type": "code",
   "execution_count": 67,
   "metadata": {},
   "outputs": [
    {
     "data": {
      "image/png": "[encoded data removed]",
      "text/plain": [
       "<Figure size 432x288 with 1 Axes>"
      ]
     },
     "metadata": {
      "needs_background": "light"
     },
     "output_type": "display_data"
    }
   ],
   "source": [
    "fig, ax = plt.subplots()\n",
    "ax.hist(Z0, alpha=0.5, label=\"Charge (source)\");\n",
    "ax.hist(Z, alpha=0.5, label=\"Charge (arrival)\");"
   ]
  },
  {
   "cell_type": "code",
   "execution_count": 68,
   "metadata": {},
   "outputs": [
    {
     "data": {
      "text/plain": [
       "0.0"
      ]
     },
     "execution_count": 68,
     "metadata": {},
     "output_type": "execute_result"
    }
   ],
   "source": [
    "nitrogen_mask = (A==14) & (Z==7)\n",
    "len(A[nitrogen_mask]) / N"
   ]
  },
  {
   "cell_type": "code",
   "execution_count": 71,
   "metadata": {},
   "outputs": [],
   "source": [
    "Emin = 0.1 * u.EeV\n",
    "Emax = 1e5 * u.EeV\n",
    "E_range = 10**np.linspace(np.log10(Emin.to_value(u.eV)), np.log10(Emax.to_value(u.eV)))"
   ]
  },
  {
   "cell_type": "code",
   "execution_count": 72,
   "metadata": {},
   "outputs": [
    {
     "data": {
      "text/plain": [
       "<matplotlib.legend.Legend at 0x7f98644f7130>"
      ]
     },
     "execution_count": 72,
     "metadata": {},
     "output_type": "execute_result"
    },
    {
     "data": {
      "image/png": "[encoded data removed]",
      "text/plain": [
       "<Figure size 432x288 with 1 Axes>"
      ]
     },
     "metadata": {
      "needs_background": "light"
     },
     "output_type": "display_data"
    }
   ],
   "source": [
    "# Source and arrival energies\n",
    "fig, ax = plt.subplots()\n",
    "ax.hist(E0, bins=E_range, alpha=0.5, label=\"Esrc\")\n",
    "ax.hist(E, bins=E_range, alpha=0.5, label=\"Earr\")\n",
    "ax.set_yscale(\"log\")\n",
    "ax.set_xscale(\"log\")\n",
    "ax.set_xlabel(\"E [eV]\")\n",
    "ax.axvline(57e18, color=\"k\", label=\"Threshold energy\", linestyle=\":\")\n",
    "ax.legend()"
   ]
  },
  {
   "cell_type": "markdown",
   "metadata": {},
   "source": [
    "## Energy losses over grid"
   ]
  },
  {
   "cell_type": "code",
   "execution_count": 2,
   "metadata": {},
   "outputs": [
    {
     "name": "stdout",
     "output_type": "stream",
     "text": [
      "crpropa::ModuleList: Number of Threads: 56\n",
      "crpropa::ModuleList: Number of Threads: 56\n",
      "crpropa::ModuleList: Number of Threads: 56\n",
      "crpropa::ModuleList: Number of Threads: 56\n",
      "crpropa::ModuleList: Number of Threads: 56\n",
      "crpropa::ModuleList: Number of Threads: 56\n",
      "crpropa::ModuleList: Number of Threads: 56\n",
      "crpropa::ModuleList: Number of Threads: 56\n",
      "crpropa::ModuleList: Number of Threads: 56\n",
      "crpropa::ModuleList: Number of Threads: 56\n",
      "crpropa::ModuleList: Number of Threads: 56\n",
      "crpropa::ModuleList: Number of Threads: 56\n",
      "crpropa::ModuleList: Number of Threads: 56\n",
      "crpropa::ModuleList: Number of Threads: 56\n",
      "crpropa::ModuleList: Number of Threads: 56\n",
      "crpropa::ModuleList: Number of Threads: 56\n",
      "crpropa::ModuleList: Number of Threads: 56\n",
      "crpropa::ModuleList: Number of Threads: 56\n",
      "crpropa::ModuleList: Number of Threads: 56\n",
      "crpropa::ModuleList: Number of Threads: 56\n",
      "crpropa::ModuleList: Number of Threads: 56\n",
      "crpropa::ModuleList: Number of Threads: 56\n",
      "crpropa::ModuleList: Number of Threads: 56\n",
      "crpropa::ModuleList: Number of Threads: 56\n",
      "crpropa::ModuleList: Number of Threads: 56\n",
      "crpropa::ModuleList: Number of Threads: 56\n",
      "crpropa::ModuleList: Number of Threads: 56\n",
      "crpropa::ModuleList: Number of Threads: 56\n",
      "crpropa::ModuleList: Number of Threads: 56\n",
      "crpropa::ModuleList: Number of Threads: 56\n",
      "crpropa::ModuleList: Number of Threads: 56\n",
      "crpropa::ModuleList: Number of Threads: 56\n",
      "crpropa::ModuleList: Number of Threads: 56\n",
      "crpropa::ModuleList: Number of Threads: 56\n",
      "crpropa::ModuleList: Number of Threads: 56\n",
      "crpropa::ModuleList: Number of Threads: 56\n",
      "crpropa::ModuleList: Number of Threads: 56\n",
      "crpropa::ModuleList: Number of Threads: 56\n",
      "crpropa::ModuleList: Number of Threads: 56\n",
      "crpropa::ModuleList: Number of Threads: 56\n",
      "crpropa::ModuleList: Number of Threads: 56\n",
      "crpropa::ModuleList: Number of Threads: 56\n",
      "crpropa::ModuleList: Number of Threads: 56\n",
      "crpropa::ModuleList: Number of Threads: 56\n",
      "crpropa::ModuleList: Number of Threads: 56\n",
      "crpropa::ModuleList: Number of Threads: 56\n",
      "crpropa::ModuleList: Number of Threads: 56\n",
      "crpropa::ModuleList: Number of Threads: 56\n",
      "crpropa::ModuleList: Number of Threads: 56\n",
      "crpropa::ModuleList: Number of Threads: 56\n",
      "crpropa::ModuleList: Number of Threads: 56\n",
      "crpropa::ModuleList: Number of Threads: 56\n",
      "crpropa::ModuleList: Number of Threads: 56\n",
      "crpropa::ModuleList: Number of Threads: 56\n",
      "crpropa::ModuleList: Number of Threads: 56\n",
      "crpropa::ModuleList: Number of Threads: 56\n",
      "crpropa::ModuleList: Number of Threads: 56\n",
      "crpropa::ModuleList: Number of Threads: 56\n",
      "crpropa::ModuleList: Number of Threads: 56\n",
      "crpropa::ModuleList: Number of Threads: 56\n",
      "crpropa::ModuleList: Number of Threads: 56\n",
      "crpropa::ModuleList: Number of Threads: 56\n",
      "crpropa::ModuleList: Number of Threads: 56\n",
      "crpropa::ModuleList: Number of Threads: 56\n",
      "crpropa::ModuleList: Number of Threads: 56\n",
      "crpropa::ModuleList: Number of Threads: 56\n",
      "crpropa::ModuleList: Number of Threads: 56\n",
      "crpropa::ModuleList: Number of Threads: 56\n",
      "crpropa::ModuleList: Number of Threads: 56\n",
      "crpropa::ModuleList: Number of Threads: 56\n",
      "crpropa::ModuleList: Number of Threads: 56\n",
      "crpropa::ModuleList: Number of Threads: 56\n",
      "crpropa::ModuleList: Number of Threads: 56\n",
      "crpropa::ModuleList: Number of Threads: 56\n",
      "crpropa::ModuleList: Number of Threads: 56\n",
      "crpropa::ModuleList: Number of Threads: 56\n",
      "crpropa::ModuleList: Number of Threads: 56\n",
      "crpropa::ModuleList: Number of Threads: 56\n",
      "crpropa::ModuleList: Number of Threads: 56\n",
      "crpropa::ModuleList: Number of Threads: 56\n",
      "crpropa::ModuleList: Number of Threads: 56\n",
      "crpropa::ModuleList: Number of Threads: 56\n",
      "crpropa::ModuleList: Number of Threads: 56\n",
      "crpropa::ModuleList: Number of Threads: 56\n",
      "crpropa::ModuleList: Number of Threads: 56\n",
      "crpropa::ModuleList: Number of Threads: 56\n",
      "crpropa::ModuleList: Number of Threads: 56\n",
      "crpropa::ModuleList: Number of Threads: 56\n",
      "crpropa::ModuleList: Number of Threads: 56\n",
      "crpropa::ModuleList: Number of Threads: 56\n",
      "crpropa::ModuleList: Number of Threads: 56\n",
      "crpropa::ModuleList: Number of Threads: 56\n",
      "crpropa::ModuleList: Number of Threads: 56\n",
      "crpropa::ModuleList: Number of Threads: 56\n",
      "crpropa::ModuleList: Number of Threads: 56\n",
      "crpropa::ModuleList: Number of Threads: 56\n",
      "crpropa::ModuleList: Number of Threads: 56\n",
      "crpropa::ModuleList: Number of Threads: 56\n",
      "crpropa::ModuleList: Number of Threads: 56\n",
      "crpropa::ModuleList: Number of Threads: 56\n",
      "crpropa::ModuleList: Number of Threads: 56\n",
      "crpropa::ModuleList: Number of Threads: 56\n",
      "crpropa::ModuleList: Number of Threads: 56\n",
      "crpropa::ModuleList: Number of Threads: 56\n",
      "crpropa::ModuleList: Number of Threads: 56\n",
      "crpropa::ModuleList: Number of Threads: 56\n",
      "crpropa::ModuleList: Number of Threads: 56\n",
      "crpropa::ModuleList: Number of Threads: 56\n",
      "crpropa::ModuleList: Number of Threads: 56\n",
      "crpropa::ModuleList: Number of Threads: 56\n",
      "crpropa::ModuleList: Number of Threads: 56\n",
      "crpropa::ModuleList: Number of Threads: 56\n",
      "crpropa::ModuleList: Number of Threads: 56\n",
      "crpropa::ModuleList: Number of Threads: 56\n",
      "crpropa::ModuleList: Number of Threads: 56\n",
      "crpropa::ModuleList: Number of Threads: 56\n",
      "crpropa::ModuleList: Number of Threads: 56\n",
      "crpropa::ModuleList: Number of Threads: 56\n",
      "crpropa::ModuleList: Number of Threads: 56\n",
      "crpropa::ModuleList: Number of Threads: 56\n",
      "crpropa::ModuleList: Number of Threads: 56\n",
      "crpropa::ModuleList: Number of Threads: 56\n",
      "crpropa::ModuleList: Number of Threads: 56\n",
      "crpropa::ModuleList: Number of Threads: 56\n",
      "crpropa::ModuleList: Number of Threads: 56\n",
      "crpropa::ModuleList: Number of Threads: 56\n",
      "crpropa::ModuleList: Number of Threads: 56\n",
      "crpropa::ModuleList: Number of Threads: 56\n",
      "crpropa::ModuleList: Number of Threads: 56\n",
      "crpropa::ModuleList: Number of Threads: 56\n",
      "crpropa::ModuleList: Number of Threads: 56\n",
      "crpropa::ModuleList: Number of Threads: 56\n",
      "crpropa::ModuleList: Number of Threads: 56\n",
      "crpropa::ModuleList: Number of Threads: 56\n",
      "crpropa::ModuleList: Number of Threads: 56\n",
      "crpropa::ModuleList: Number of Threads: 56\n",
      "crpropa::ModuleList: Number of Threads: 56\n",
      "crpropa::ModuleList: Number of Threads: 56\n",
      "crpropa::ModuleList: Number of Threads: 56\n",
      "crpropa::ModuleList: Number of Threads: 56\n",
      "crpropa::ModuleList: Number of Threads: 56\n",
      "crpropa::ModuleList: Number of Threads: 56\n",
      "crpropa::ModuleList: Number of Threads: 56\n",
      "crpropa::ModuleList: Number of Threads: 56\n",
      "crpropa::ModuleList: Number of Threads: 56\n",
      "crpropa::ModuleList: Number of Threads: 56\n",
      "crpropa::ModuleList: Number of Threads: 56\n",
      "crpropa::ModuleList: Number of Threads: 56\n",
      "crpropa::ModuleList: Number of Threads: 56\n",
      "crpropa::ModuleList: Number of Threads: 56\n",
      "crpropa::ModuleList: Number of Threads: 56\n",
      "crpropa::ModuleList: Number of Threads: 56\n",
      "crpropa::ModuleList: Number of Threads: 56\n",
      "crpropa::ModuleList: Number of Threads: 56\n",
      "crpropa::ModuleList: Number of Threads: 56\n",
      "crpropa::ModuleList: Number of Threads: 56\n",
      "crpropa::ModuleList: Number of Threads: 56\n",
      "crpropa::ModuleList: Number of Threads: 56\n",
      "crpropa::ModuleList: Number of Threads: 56\n",
      "crpropa::ModuleList: Number of Threads: 56\n",
      "crpropa::ModuleList: Number of Threads: 56\n",
      "crpropa::ModuleList: Number of Threads: 56\n",
      "crpropa::ModuleList: Number of Threads: 56\n",
      "crpropa::ModuleList: Number of Threads: 56\n",
      "crpropa::ModuleList: Number of Threads: 56\n",
      "crpropa::ModuleList: Number of Threads: 56\n",
      "crpropa::ModuleList: Number of Threads: 56\n",
      "crpropa::ModuleList: Number of Threads: 56\n",
      "crpropa::ModuleList: Number of Threads: 56\n",
      "crpropa::ModuleList: Number of Threads: 56\n",
      "crpropa::ModuleList: Number of Threads: 56\n",
      "crpropa::ModuleList: Number of Threads: 56\n",
      "crpropa::ModuleList: Number of Threads: 56\n",
      "crpropa::ModuleList: Number of Threads: 56\n",
      "crpropa::ModuleList: Number of Threads: 56\n",
      "crpropa::ModuleList: Number of Threads: 56\n",
      "crpropa::ModuleList: Number of Threads: 56\n",
      "crpropa::ModuleList: Number of Threads: 56\n",
      "crpropa::ModuleList: Number of Threads: 56\n",
      "crpropa::ModuleList: Number of Threads: 56\n",
      "crpropa::ModuleList: Number of Threads: 56\n",
      "crpropa::ModuleList: Number of Threads: 56\n",
      "crpropa::ModuleList: Number of Threads: 56\n",
      "crpropa::ModuleList: Number of Threads: 56\n",
      "crpropa::ModuleList: Number of Threads: 56\n",
      "crpropa::ModuleList: Number of Threads: 56\n",
      "crpropa::ModuleList: Number of Threads: 56\n",
      "crpropa::ModuleList: Number of Threads: 56\n",
      "crpropa::ModuleList: Number of Threads: 56\n",
      "crpropa::ModuleList: Number of Threads: 56\n",
      "crpropa::ModuleList: Number of Threads: 56\n",
      "crpropa::ModuleList: Number of Threads: 56\n",
      "crpropa::ModuleList: Number of Threads: 56\n",
      "crpropa::ModuleList: Number of Threads: 56\n",
      "crpropa::ModuleList: Number of Threads: 56\n",
      "crpropa::ModuleList: Number of Threads: 56\n",
      "crpropa::ModuleList: Number of Threads: 56\n",
      "crpropa::ModuleList: Number of Threads: 56\n",
      "crpropa::ModuleList: Number of Threads: 56\n",
      "crpropa::ModuleList: Number of Threads: 56\n",
      "crpropa::ModuleList: Number of Threads: 56\n",
      "crpropa::ModuleList: Number of Threads: 56\n",
      "crpropa::ModuleList: Number of Threads: 56\n",
      "crpropa::ModuleList: Number of Threads: 56\n",
      "crpropa::ModuleList: Number of Threads: 56\n",
      "crpropa::ModuleList: Number of Threads: 56\n",
      "crpropa::ModuleList: Number of Threads: 56\n",
      "crpropa::ModuleList: Number of Threads: 56\n",
      "crpropa::ModuleList: Number of Threads: 56\n",
      "crpropa::ModuleList: Number of Threads: 56\n",
      "crpropa::ModuleList: Number of Threads: 56\n",
      "crpropa::ModuleList: Number of Threads: 56\n",
      "crpropa::ModuleList: Number of Threads: 56\n",
      "crpropa::ModuleList: Number of Threads: 56\n",
      "crpropa::ModuleList: Number of Threads: 56\n",
      "crpropa::ModuleList: Number of Threads: 56\n",
      "crpropa::ModuleList: Number of Threads: 56\n",
      "crpropa::ModuleList: Number of Threads: 56\n",
      "crpropa::ModuleList: Number of Threads: 56\n",
      "crpropa::ModuleList: Number of Threads: 56\n",
      "crpropa::ModuleList: Number of Threads: 56\n",
      "crpropa::ModuleList: Number of Threads: 56\n",
      "crpropa::ModuleList: Number of Threads: 56\n",
      "crpropa::ModuleList: Number of Threads: 56\n",
      "crpropa::ModuleList: Number of Threads: 56\n",
      "crpropa::ModuleList: Number of Threads: 56\n",
      "crpropa::ModuleList: Number of Threads: 56\n",
      "crpropa::ModuleList: Number of Threads: 56\n",
      "crpropa::ModuleList: Number of Threads: 56\n",
      "crpropa::ModuleList: Number of Threads: 56\n",
      "crpropa::ModuleList: Number of Threads: 56\n",
      "crpropa::ModuleList: Number of Threads: 56\n",
      "crpropa::ModuleList: Number of Threads: 56\n",
      "crpropa::ModuleList: Number of Threads: 56\n",
      "crpropa::ModuleList: Number of Threads: 56\n",
      "crpropa::ModuleList: Number of Threads: 56\n",
      "crpropa::ModuleList: Number of Threads: 56\n",
      "crpropa::ModuleList: Number of Threads: 56\n",
      "crpropa::ModuleList: Number of Threads: 56\n",
      "crpropa::ModuleList: Number of Threads: 56\n",
      "crpropa::ModuleList: Number of Threads: 56\n",
      "crpropa::ModuleList: Number of Threads: 56\n",
      "crpropa::ModuleList: Number of Threads: 56\n",
      "crpropa::ModuleList: Number of Threads: 56\n",
      "crpropa::ModuleList: Number of Threads: 56\n",
      "crpropa::ModuleList: Number of Threads: 56\n",
      "crpropa::ModuleList: Number of Threads: 56\n",
      "crpropa::ModuleList: Number of Threads: 56\n",
      "crpropa::ModuleList: Number of Threads: 56\n",
      "crpropa::ModuleList: Number of Threads: 56\n",
      "crpropa::ModuleList: Number of Threads: 56\n",
      "crpropa::ModuleList: Number of Threads: 56\n",
      "crpropa::ModuleList: Number of Threads: 56\n",
      "crpropa::ModuleList: Number of Threads: 56\n",
      "crpropa::ModuleList: Number of Threads: 56\n",
      "crpropa::ModuleList: Number of Threads: 56\n",
      "crpropa::ModuleList: Number of Threads: 56\n",
      "crpropa::ModuleList: Number of Threads: 56\n",
      "crpropa::ModuleList: Number of Threads: 56\n",
      "crpropa::ModuleList: Number of Threads: 56\n",
      "crpropa::ModuleList: Number of Threads: 56\n",
      "crpropa::ModuleList: Number of Threads: 56\n",
      "crpropa::ModuleList: Number of Threads: 56\n",
      "crpropa::ModuleList: Number of Threads: 56\n",
      "crpropa::ModuleList: Number of Threads: 56\n",
      "crpropa::ModuleList: Number of Threads: 56\n",
      "crpropa::ModuleList: Number of Threads: 56\n",
      "crpropa::ModuleList: Number of Threads: 56\n",
      "crpropa::ModuleList: Number of Threads: 56\n",
      "crpropa::ModuleList: Number of Threads: 56\n",
      "crpropa::ModuleList: Number of Threads: 56\n",
      "crpropa::ModuleList: Number of Threads: 56\n",
      "crpropa::ModuleList: Number of Threads: 56\n",
      "crpropa::ModuleList: Number of Threads: 56\n",
      "crpropa::ModuleList: Number of Threads: 56\n",
      "crpropa::ModuleList: Number of Threads: 56\n",
      "crpropa::ModuleList: Number of Threads: 56\n",
      "crpropa::ModuleList: Number of Threads: 56\n",
      "crpropa::ModuleList: Number of Threads: 56\n",
      "crpropa::ModuleList: Number of Threads: 56\n",
      "crpropa::ModuleList: Number of Threads: 56\n",
      "crpropa::ModuleList: Number of Threads: 56\n",
      "crpropa::ModuleList: Number of Threads: 56\n",
      "crpropa::ModuleList: Number of Threads: 56\n",
      "crpropa::ModuleList: Number of Threads: 56\n",
      "crpropa::ModuleList: Number of Threads: 56\n",
      "crpropa::ModuleList: Number of Threads: 56\n",
      "crpropa::ModuleList: Number of Threads: 56\n",
      "crpropa::ModuleList: Number of Threads: 56\n",
      "crpropa::ModuleList: Number of Threads: 56\n",
      "crpropa::ModuleList: Number of Threads: 56\n",
      "crpropa::ModuleList: Number of Threads: 56\n",
      "crpropa::ModuleList: Number of Threads: 56\n",
      "crpropa::ModuleList: Number of Threads: 56\n",
      "crpropa::ModuleList: Number of Threads: 56\n",
      "crpropa::ModuleList: Number of Threads: 56\n",
      "crpropa::ModuleList: Number of Threads: 56\n",
      "crpropa::ModuleList: Number of Threads: 56\n",
      "crpropa::ModuleList: Number of Threads: 56\n",
      "crpropa::ModuleList: Number of Threads: 56\n",
      "crpropa::ModuleList: Number of Threads: 56\n",
      "crpropa::ModuleList: Number of Threads: 56\n",
      "crpropa::ModuleList: Number of Threads: 56\n",
      "crpropa::ModuleList: Number of Threads: 56\n",
      "crpropa::ModuleList: Number of Threads: 56\n",
      "crpropa::ModuleList: Number of Threads: 56\n",
      "crpropa::ModuleList: Number of Threads: 56\n",
      "crpropa::ModuleList: Number of Threads: 56\n",
      "crpropa::ModuleList: Number of Threads: 56\n",
      "crpropa::ModuleList: Number of Threads: 56\n",
      "crpropa::ModuleList: Number of Threads: 56\n",
      "crpropa::ModuleList: Number of Threads: 56\n",
      "crpropa::ModuleList: Number of Threads: 56\n",
      "crpropa::ModuleList: Number of Threads: 56\n",
      "crpropa::ModuleList: Number of Threads: 56\n",
      "crpropa::ModuleList: Number of Threads: 56\n",
      "crpropa::ModuleList: Number of Threads: 56\n",
      "crpropa::ModuleList: Number of Threads: 56\n",
      "crpropa::ModuleList: Number of Threads: 56\n",
      "crpropa::ModuleList: Number of Threads: 56\n",
      "crpropa::ModuleList: Number of Threads: 56\n",
      "crpropa::ModuleList: Number of Threads: 56\n",
      "crpropa::ModuleList: Number of Threads: 56\n",
      "crpropa::ModuleList: Number of Threads: 56\n",
      "crpropa::ModuleList: Number of Threads: 56\n",
      "crpropa::ModuleList: Number of Threads: 56\n",
      "crpropa::ModuleList: Number of Threads: 56\n",
      "crpropa::ModuleList: Number of Threads: 56\n",
      "crpropa::ModuleList: Number of Threads: 56\n",
      "crpropa::ModuleList: Number of Threads: 56\n",
      "crpropa::ModuleList: Number of Threads: 56\n",
      "crpropa::ModuleList: Number of Threads: 56\n",
      "crpropa::ModuleList: Number of Threads: 56\n",
      "crpropa::ModuleList: Number of Threads: 56\n",
      "crpropa::ModuleList: Number of Threads: 56\n",
      "crpropa::ModuleList: Number of Threads: 56\n",
      "crpropa::ModuleList: Number of Threads: 56\n",
      "crpropa::ModuleList: Number of Threads: 56\n",
      "crpropa::ModuleList: Number of Threads: 56\n",
      "crpropa::ModuleList: Number of Threads: 56\n",
      "crpropa::ModuleList: Number of Threads: 56\n",
      "crpropa::ModuleList: Number of Threads: 56\n",
      "crpropa::ModuleList: Number of Threads: 56\n",
      "crpropa::ModuleList: Number of Threads: 56\n",
      "crpropa::ModuleList: Number of Threads: 56\n",
      "crpropa::ModuleList: Number of Threads: 56\n",
      "crpropa::ModuleList: Number of Threads: 56\n",
      "crpropa::ModuleList: Number of Threads: 56\n",
      "crpropa::ModuleList: Number of Threads: 56\n",
      "crpropa::ModuleList: Number of Threads: 56\n",
      "crpropa::ModuleList: Number of Threads: 56\n",
      "crpropa::ModuleList: Number of Threads: 56\n",
      "crpropa::ModuleList: Number of Threads: 56\n",
      "crpropa::ModuleList: Number of Threads: 56\n",
      "crpropa::ModuleList: Number of Threads: 56\n",
      "crpropa::ModuleList: Number of Threads: 56\n",
      "crpropa::ModuleList: Number of Threads: 56\n",
      "crpropa::ModuleList: Number of Threads: 56\n",
      "crpropa::ModuleList: Number of Threads: 56\n",
      "crpropa::ModuleList: Number of Threads: 56\n",
      "crpropa::ModuleList: Number of Threads: 56\n",
      "crpropa::ModuleList: Number of Threads: 56\n",
      "crpropa::ModuleList: Number of Threads: 56\n",
      "crpropa::ModuleList: Number of Threads: 56\n",
      "crpropa::ModuleList: Number of Threads: 56\n",
      "crpropa::ModuleList: Number of Threads: 56\n",
      "crpropa::ModuleList: Number of Threads: 56\n",
      "crpropa::ModuleList: Number of Threads: 56\n",
      "crpropa::ModuleList: Number of Threads: 56\n",
      "crpropa::ModuleList: Number of Threads: 56\n",
      "crpropa::ModuleList: Number of Threads: 56\n",
      "crpropa::ModuleList: Number of Threads: 56\n",
      "crpropa::ModuleList: Number of Threads: 56\n",
      "crpropa::ModuleList: Number of Threads: 56\n",
      "crpropa::ModuleList: Number of Threads: 56\n",
      "crpropa::ModuleList: Number of Threads: 56\n",
      "crpropa::ModuleList: Number of Threads: 56\n",
      "crpropa::ModuleList: Number of Threads: 56\n",
      "crpropa::ModuleList: Number of Threads: 56\n",
      "crpropa::ModuleList: Number of Threads: 56\n",
      "crpropa::ModuleList: Number of Threads: 56\n",
      "crpropa::ModuleList: Number of Threads: 56\n",
      "crpropa::ModuleList: Number of Threads: 56\n",
      "crpropa::ModuleList: Number of Threads: 56\n",
      "crpropa::ModuleList: Number of Threads: 56\n",
      "crpropa::ModuleList: Number of Threads: 56\n",
      "crpropa::ModuleList: Number of Threads: 56\n",
      "crpropa::ModuleList: Number of Threads: 56\n",
      "crpropa::ModuleList: Number of Threads: 56\n",
      "crpropa::ModuleList: Number of Threads: 56\n",
      "crpropa::ModuleList: Number of Threads: 56\n",
      "crpropa::ModuleList: Number of Threads: 56\n",
      "crpropa::ModuleList: Number of Threads: 56\n",
      "crpropa::ModuleList: Number of Threads: 56\n",
      "crpropa::ModuleList: Number of Threads: 56\n",
      "crpropa::ModuleList: Number of Threads: 56\n",
      "crpropa::ModuleList: Number of Threads: 56\n",
      "crpropa::ModuleList: Number of Threads: 56\n",
      "crpropa::ModuleList: Number of Threads: 56\n",
      "crpropa::ModuleList: Number of Threads: 56\n"
     ]
    }
   ],
   "source": [
    "N_grid = 20\n",
    "Esrc_range = 10**np.linspace(1, 4, N_grid) * u.EeV\n",
    "D_range = 10**np.linspace(0, np.log10(250), N_grid) * u.Mpc\n",
    "Eth = 57 * u.EeV\n",
    "N_sim = 1_000\n",
    "sim_file_name = \"output/crpropa_events_grid.txt\"\n",
    "\n",
    "nitrogen_fraction = np.zeros((N_grid, N_grid))\n",
    "source_particle_fraction = np.zeros((N_grid, N_grid))\n",
    "mean_arrival_energy = np.zeros((N_grid, N_grid))\n",
    "mean_arrival_energy_maxA = np.zeros((N_grid, N_grid))\n",
    "mean_arrival_energy_mcA = np.zeros((N_grid, N_grid))\n",
    "fraction_above_Eth = np.zeros((N_grid, N_grid))\n",
    "\n",
    "E_arr = []\n",
    "for i, Esrc in enumerate(Esrc_range):\n",
    "    for j, D in enumerate(D_range):\n",
    "        \n",
    "        sim = ModuleList()\n",
    "        sim.add( SimplePropagation(1*kpc, min([D.to_value(u.Mpc)/10, 10]) * Mpc) )\n",
    "        sim.add( Redshift() )\n",
    "        sim.add( PhotoPionProduction(CMB()) )\n",
    "        sim.add( PhotoPionProduction(IRB_Kneiske04()) )\n",
    "        sim.add( PhotoDisintegration(CMB()) )\n",
    "        sim.add( PhotoDisintegration(IRB_Kneiske04()) )\n",
    "        sim.add( NuclearDecay() )\n",
    "        sim.add( ElectronPairProduction(CMB()) )\n",
    "        sim.add( ElectronPairProduction(IRB_Kneiske04()) )\n",
    "        sim.add( MinimumEnergy( 1 * EeV) )\n",
    "\n",
    "        obs = Observer()\n",
    "        obs.add( ObserverPoint() )\n",
    "        output = TextOutput(sim_file_name, Output.Event1D)\n",
    "        obs.onDetection( output )\n",
    "        sim.add( obs )\n",
    "\n",
    "        source = Source()\n",
    "        source.add( SourcePosition(D.to_value(u.Mpc) * Mpc) )\n",
    "        source.add( SourceRedshift1D() )\n",
    "        particle_type = nucleusId(14, 7) \n",
    "        source.add( SourceEnergy(Esrc.to_value(u.EeV) * EeV) )\n",
    "        source.add( SourceParticleType(particle_type) ) \n",
    "\n",
    "        sim.setShowProgress(False)\n",
    "        sim.run(source, N_sim, True)\n",
    "        output.close()\n",
    "\n",
    "        output.close()\n",
    "        sim_data = np.genfromtxt(sim_file_name, names=True)\n",
    "\n",
    "        Z = np.array([chargeNumber(int(id)) for id in sim_data['ID'].astype(int)])  \n",
    "        A = np.array([massNumber(int(id)) for id in sim_data['ID'].astype(int)])  \n",
    "        E = 10**(np.log10(sim_data['E']) + 18)\n",
    "\n",
    "        idx_max_A = A[A==max(A)]\n",
    "        A_list = list(A)\n",
    "        A_mc = max(set(A_list), key=A_list.count)\n",
    "        idx_mc_A = A[A==A_mc]\n",
    "        \n",
    "\n",
    "        nitrogen_fraction[i][j] = len(A[(A==14) & (Z == 7)]) / N_sim\n",
    "        source_particle_fraction[i][j] = N_sim / len(A)\n",
    "        mean_arrival_energy[i][j] = np.mean(E)\n",
    "        mean_arrival_energy_maxA[i][j] = np.mean(E[idx_max_A])\n",
    "        mean_arrival_energy_mcA[i][j] = np.mean(E[idx_mc_A])\n",
    "        fraction_above_Eth[i][j] = len(E[E>Eth.to_value(u.eV)]) / len(E)"
   ]
  },
  {
   "cell_type": "code",
   "execution_count": 3,
   "metadata": {},
   "outputs": [],
   "source": [
    "# Save\n",
    "with h5py.File(\"output/nitrogen_propa_results.h5\", \"w\") as f:\n",
    "    f.create_dataset(\"Esrc_range\", data=Esrc_range.to_value(u.EeV))\n",
    "    f.create_dataset(\"D_range\", data=D_range.to_value(u.Mpc))\n",
    "    f.create_dataset(\"Eth\", data=Eth.to_value(u.EeV))\n",
    "    f.create_dataset(\"nitrogen_fraction\", data=nitrogen_fraction)\n",
    "    f.create_dataset(\"source_particle_fraction\", data=source_particle_fraction)\n",
    "    f.create_dataset(\"mean_arrival_energy\", data=mean_arrival_energy)\n",
    "    f.create_dataset(\"mean_arrival_energy_maxA\", data=mean_arrival_energy_maxA)\n",
    "    f.create_dataset(\"mean_arrival_energy_mcA\", data=mean_arrival_energy_mcA)\n",
    "    f.create_dataset(\"fraction_above_Eth\", data=fraction_above_Eth)"
   ]
  },
  {
   "cell_type": "code",
   "execution_count": 4,
   "metadata": {},
   "outputs": [],
   "source": [
    "# Load\n",
    "with h5py.File(\"output/nitrogen_propa_results.h5\", \"r\") as f:\n",
    "    Esrc_range = f[\"Esrc_range\"][()] * u.EeV\n",
    "    D_range = f[\"D_range\"][()] * u.Mpc\n",
    "    Eth = f[\"Eth\"][()] * u.EeV\n",
    "    nitrogen_fraction = f[\"nitrogen_fraction\"][()]\n",
    "    source_particle_fraction = f[\"source_particle_fraction\"][()]\n",
    "    mean_arrival_energy = f[\"mean_arrival_energy\"][()] * u.eV\n",
    "    mean_arrival_energy_maxA = f[\"mean_arrival_energy_maxA\"][()] * u.eV\n",
    "    mean_arrival_energy_mcA = f[\"mean_arrival_energy_mcA\"][()] * u.eV\n",
    "    fraction_above_Eth = f[\"fraction_above_Eth\"][()]"
   ]
  },
  {
   "cell_type": "code",
   "execution_count": 5,
   "metadata": {},
   "outputs": [
    {
     "data": {
      "text/plain": [
       "<matplotlib.colorbar.Colorbar at 0x7fd9741d30d0>"
      ]
     },
     "execution_count": 5,
     "metadata": {},
     "output_type": "execute_result"
    },
    {
     "data": {
      "image/png": "[encoded data removed]",
      "text/plain": [
       "<Figure size 432x288 with 2 Axes>"
      ]
     },
     "metadata": {
      "needs_background": "light"
     },
     "output_type": "display_data"
    }
   ],
   "source": [
    "fig, ax = plt.subplots()\n",
    "h = ax.contourf(Esrc_range.to_value(u.eV), D_range.to_value(u.Mpc), source_particle_fraction.T)\n",
    "ax.set_xlabel(\"Esrc [eV]\")\n",
    "ax.set_ylabel(\"D [Mpc]\")\n",
    "ax.set_xscale(\"log\")\n",
    "ax.set_yscale(\"log\")\n",
    "ax.set_title(\"Source particle fraction\")\n",
    "fig.colorbar(h)"
   ]
  },
  {
   "cell_type": "code",
   "execution_count": 6,
   "metadata": {},
   "outputs": [
    {
     "data": {
      "text/plain": [
       "<matplotlib.colorbar.Colorbar at 0x7fd9840376a0>"
      ]
     },
     "execution_count": 6,
     "metadata": {},
     "output_type": "execute_result"
    },
    {
     "data": {
      "image/png": "[encoded data removed]",
      "text/plain": [
       "<Figure size 432x288 with 2 Axes>"
      ]
     },
     "metadata": {
      "needs_background": "light"
     },
     "output_type": "display_data"
    }
   ],
   "source": [
    "fig, ax = plt.subplots()\n",
    "h = ax.contourf(Esrc_range.to_value(u.eV), D_range.to_value(u.Mpc), nitrogen_fraction.T)\n",
    "ax.set_xlabel(\"Esrc [eV]\")\n",
    "ax.set_ylabel(\"D [Mpc]\")\n",
    "ax.set_xscale(\"log\")\n",
    "ax.set_yscale(\"log\")\n",
    "ax.set_title(\"Nitrogen fraction\")\n",
    "fig.colorbar(h)"
   ]
  },
  {
   "cell_type": "code",
   "execution_count": 14,
   "metadata": {},
   "outputs": [
    {
     "data": {
      "image/png": "[encoded data removed]",
      "text/plain": [
       "<Figure size 1440x360 with 6 Axes>"
      ]
     },
     "metadata": {
      "needs_background": "light"
     },
     "output_type": "display_data"
    }
   ],
   "source": [
    "fig, ax = plt.subplots(1, 3)\n",
    "fig.set_size_inches(20, 5)\n",
    "\n",
    "h0 = ax[0].contourf(Esrc_range.to_value(u.eV), D_range.to_value(u.Mpc), np.log10(mean_arrival_energy.to_value(u.eV)).T, levels=20)\n",
    "fig.colorbar(h0, ax=ax[0])\n",
    "ax[0].set_title(\"Mean arrival energy [log10(Earr/eV)]\")\n",
    "\n",
    "h1 = ax[1].contourf(Esrc_range.to_value(u.eV), D_range.to_value(u.Mpc), np.log10(mean_arrival_energy_maxA.to_value(u.eV)).T, levels=20)\n",
    "fig.colorbar(h1, ax=ax[1])\n",
    "ax[1].set_title(\"Mean arrival energy (Max A) [log10(Earr/eV)]\")\n",
    "\n",
    "h2 = ax[2].contourf(Esrc_range.to_value(u.eV), D_range.to_value(u.Mpc), np.log10(mean_arrival_energy_mcA.to_value(u.eV)).T, levels=20)\n",
    "fig.colorbar(h2, ax=ax[2])\n",
    "ax[2].set_title(\"Mean arrival energy (Common A)[log10(Earr/eV)]\")\n",
    "\n",
    "for axis in ax:\n",
    "    axis.set_xlabel(\"Esrc [eV]\")\n",
    "    axis.set_ylabel(\"D [Mpc]\")\n",
    "    axis.set_xscale(\"log\")\n",
    "    axis.set_yscale(\"log\")\n",
    "\n"
   ]
  },
  {
   "cell_type": "code",
   "execution_count": 8,
   "metadata": {},
   "outputs": [
    {
     "data": {
      "text/plain": [
       "<matplotlib.colorbar.Colorbar at 0x7fd9742b60d0>"
      ]
     },
     "execution_count": 8,
     "metadata": {},
     "output_type": "execute_result"
    },
    {
     "data": {
      "image/png": "[encoded data removed]",
      "text/plain": [
       "<Figure size 432x288 with 2 Axes>"
      ]
     },
     "metadata": {
      "needs_background": "light"
     },
     "output_type": "display_data"
    }
   ],
   "source": [
    "fig, ax = plt.subplots()\n",
    "h = ax.contourf(Esrc_range.to_value(u.eV), D_range.to_value(u.Mpc), fraction_above_Eth.T)\n",
    "ax.set_xlabel(\"Esrc [eV]\")\n",
    "ax.set_ylabel(\"D [Mpc]\")\n",
    "ax.set_xscale(\"log\")\n",
    "ax.set_yscale(\"log\")\n",
    "ax.set_title(\"Fraction of arrival particles with E > Eth\")\n",
    "fig.colorbar(h)"
   ]
  },
  {
   "cell_type": "markdown",
   "metadata": {},
   "source": [
    "## Loss length"
   ]
  },
  {
   "cell_type": "code",
   "execution_count": 19,
   "metadata": {},
   "outputs": [],
   "source": [
    "N_grid = 100\n",
    "Esrc_range = 10**np.linspace(0, 4, N_grid) * u.EeV\n",
    "D_range = 10**np.linspace(0, np.log10(250), N_grid) * u.Mpc\n",
    "\n",
    "# Convert to gamma\n",
    "c = 3e8 * u.m / u.s\n",
    "m = 14 * 938 * u.MeV / c**2\n",
    "gamma_range = (Esrc_range / (m * c**2)).to_value(u.dimensionless_unscaled)"
   ]
  },
  {
   "cell_type": "code",
   "execution_count": 20,
   "metadata": {},
   "outputs": [],
   "source": [
    "photo_pion_cmb = PhotoPionProduction(CMB()) \n",
    "photo_pion_irb = PhotoPionProduction(IRB_Kneiske04())\n",
    "photo_dis_cmb = PhotoDisintegration(CMB()) \n",
    "photo_dis_irb = PhotoDisintegration(IRB_Kneiske04())\n",
    "nuc_decay = NuclearDecay() \n",
    "pair_prod_cmb = ElectronPairProduction(CMB())\n",
    "pair_prod_irb = ElectronPairProduction(IRB_Kneiske04()) "
   ]
  },
  {
   "cell_type": "code",
   "execution_count": 21,
   "metadata": {},
   "outputs": [],
   "source": [
    "ll_photo_pion_cmb = [photo_pion_cmb.lossLength(nucleusId(14, 7), g, 0.0) for g in gamma_range] * u.m\n",
    "ll_photo_pion_irb = [photo_pion_irb.lossLength(nucleusId(14, 7), g, 0.0) for g in gamma_range] * u.m\n",
    "ll_photo_dis_cmb = [photo_dis_cmb.lossLength(nucleusId(14, 7), g, 0.0) for g in gamma_range] * u.m\n",
    "ll_photo_dis_irb = [photo_dis_irb.lossLength(nucleusId(14, 7), g, 0.0) for g in gamma_range] * u.m\n",
    "ll_pair_prod_cmb = [pair_prod_cmb.lossLength(nucleusId(14, 7), g, 0.0) for g in gamma_range] * u.m\n",
    "ll_pair_prod_irb = [pair_prod_irb.lossLength(nucleusId(14, 7), g, 0.0) for g in gamma_range] * u.m\n",
    "ll_adiabatic = [(4000*u.Mpc).to_value(u.m) for g in gamma_range] * u.m\n",
    "ll_total = 1/(1/ll_photo_pion_cmb + 1/ll_photo_pion_irb + 1/ll_photo_dis_cmb \n",
    "    + 1/ll_photo_dis_irb + 1/ll_pair_prod_cmb + 1/ll_pair_prod_irb + 1/ll_adiabatic)"
   ]
  },
  {
   "cell_type": "markdown",
   "metadata": {},
   "source": [
    "Reproduce Fig from Batista et al. 2015. "
   ]
  },
  {
   "cell_type": "code",
   "execution_count": 22,
   "metadata": {},
   "outputs": [
    {
     "data": {
      "text/plain": [
       "Text(0.5, 1.0, 'Nitrogen')"
      ]
     },
     "execution_count": 22,
     "metadata": {},
     "output_type": "execute_result"
    },
    {
     "data": {
      "image/png": "[encoded data removed]",
      "text/plain": [
       "<Figure size 504x360 with 1 Axes>"
      ]
     },
     "metadata": {
      "needs_background": "light"
     },
     "output_type": "display_data"
    }
   ],
   "source": [
    "fig, ax = plt.subplots()\n",
    "fig.set_size_inches(7, 5)\n",
    "ax.plot(Esrc_range.to_value(u.eV), ll_photo_pion_cmb.to_value(u.Mpc), color=\"orange\", linestyle=\"--\", label=\"photopion production (CMB)\")\n",
    "ax.plot(Esrc_range.to_value(u.eV), ll_photo_pion_irb.to_value(u.Mpc), color=\"orange\", linestyle=\"-.\", label=\"photopion production (IRB)\")\n",
    "ax.plot(Esrc_range.to_value(u.eV), ll_photo_dis_cmb.to_value(u.Mpc), color=\"purple\", linestyle=\"--\", label=\"photodisintegration (CMB)\")\n",
    "ax.plot(Esrc_range.to_value(u.eV), ll_photo_dis_irb.to_value(u.Mpc), color=\"purple\", linestyle=\"-.\", label=\"photodisintegration (IRB)\")\n",
    "ax.plot(Esrc_range.to_value(u.eV), ll_pair_prod_cmb.to_value(u.Mpc), color=\"green\", linestyle=\"--\", label=\"pair production (CMB)\")\n",
    "ax.plot(Esrc_range.to_value(u.eV), ll_pair_prod_irb.to_value(u.Mpc), color=\"green\", linestyle=\"-.\", label=\"pair production (IRB)\")\n",
    "ax.plot(Esrc_range.to_value(u.eV), ll_adiabatic.to_value(u.Mpc), color=\"black\", linestyle=\":\", label=\"resdhift losses\")\n",
    "ax.plot(Esrc_range.to_value(u.eV), ll_total.to_value(u.Mpc), color=\"black\", linestyle=\"-\", label=\"all processes\")\n",
    "\n",
    "ax.set_xscale(\"log\")\n",
    "ax.set_yscale(\"log\")\n",
    "ax.set_ylim(0.1, 1e4)\n",
    "ax.set_xlabel(\"E [eV]\")\n",
    "ax.set_ylabel(\"Loss length [Mpc]\")\n",
    "ax.legend()\n",
    "ax.set_title(\"Nitrogen\")\n"
   ]
  },
  {
   "cell_type": "code",
   "execution_count": 23,
   "metadata": {},
   "outputs": [],
   "source": [
    "from scipy import integrate"
   ]
  },
  {
   "cell_type": "code",
   "execution_count": 24,
   "metadata": {},
   "outputs": [],
   "source": [
    "H0 = 70 * u.km / (u.s * u.Mpc)\n",
    "DH = (c / H0).to(u.Mpc)\n",
    "\n",
    "def get_ll_total(nucleus_id, gamma, z):\n",
    "    ll_photo_pion_cmb = photo_pion_cmb.lossLength(nucleus_id, gamma, z) * u.m\n",
    "    ll_photo_pion_irb = photo_pion_irb.lossLength(nucleus_id, gamma, z) * u.m\n",
    "    ll_photo_dis_cmb = photo_dis_cmb.lossLength(nucleus_id, gamma, z) * u.m\n",
    "    ll_photo_dis_irb = photo_dis_irb.lossLength(nucleus_id, gamma, z) * u.m\n",
    "    ll_pair_prod_cmb = pair_prod_cmb.lossLength(nucleus_id, gamma, z) * u.m\n",
    "    ll_pair_prod_irb = pair_prod_irb.lossLength(nucleus_id, gamma, z) * u.m\n",
    "    ll_adiabatic = DH.to(u.m)\n",
    "    ll_total = 1/(1/ll_photo_pion_cmb + 1/ll_photo_pion_irb + 1/ll_photo_dis_cmb \n",
    "        + 1/ll_photo_dis_irb + 1/ll_pair_prod_cmb + 1/ll_pair_prod_irb + 1/ll_adiabatic)\n",
    "\n",
    "    return ll_total.to_value(u.Mpc)\n",
    "\n",
    "def dEdr(r, E):\n",
    "    z = r / DH.to_value(u.Mpc)\n",
    "    gamma = ((E * u. eV) / (m * c**2)).to_value(u.dimensionless_unscaled)[0]\n",
    "    ll_total = get_ll_total(nucleusId(14, 7), gamma, z)\n",
    "\n",
    "    return - E / ll_total    "
   ]
  },
  {
   "cell_type": "code",
   "execution_count": 159,
   "metadata": {},
   "outputs": [],
   "source": [
    "N_grid = 20\n",
    "Esrc_range = 10**np.linspace(0, 4, N_grid) * u.EeV\n",
    "D_range = 10**np.linspace(0, np.log10(250), N_grid) * u.Mpc\n",
    "\n",
    "arrival_energies = np.zeros((N_grid, N_grid))\n",
    "for i, Esrc in enumerate(Esrc_range):\n",
    "    for j, D in enumerate(D_range):\n",
    "\n",
    "        integrator = integrate.ode(dEdr).set_integrator(\"lsoda\", method=\"bdf\")\n",
    "        dr = min([D.to_value(u.Mpc)/10, 10]) * u.Mpc\n",
    "        integrator.set_initial_value(Esrc.to_value(u.eV), 0.0)\n",
    "\n",
    "        while integrator.successful() and integrator.t < D.to_value(u.Mpc):\n",
    "            integrator.integrate(integrator.t + dr.to_value(u.Mpc))\n",
    "\n",
    "        arrival_energies[i][j] = integrator.y # eV"
   ]
  },
  {
   "cell_type": "code",
   "execution_count": 160,
   "metadata": {},
   "outputs": [],
   "source": [
    "with h5py.File(\"output/nitrogen_loss_length_results.h5\", \"w\") as f:\n",
    "    f.create_dataset(\"Esrc_range\", data=Esrc_range.to_value(u.EeV))\n",
    "    f.create_dataset(\"D_range\", data=D_range.to_value(u.Mpc))\n",
    "    f.create_dataset(\"arrival_energies\", data=arrival_energies)"
   ]
  },
  {
   "cell_type": "code",
   "execution_count": 25,
   "metadata": {},
   "outputs": [],
   "source": [
    "with h5py.File(\"output/nitrogen_loss_length_results.h5\", \"r\") as f:\n",
    "    Esrc_range = f[\"Esrc_range\"][()] * u.EeV\n",
    "    D_range = f[\"D_range\"][()] * u.Mpc\n",
    "    arrival_energies = f[\"arrival_energies\"][()] * u.eV"
   ]
  },
  {
   "cell_type": "code",
   "execution_count": 27,
   "metadata": {},
   "outputs": [
    {
     "data": {
      "text/plain": [
       "<matplotlib.colorbar.Colorbar at 0x7f98ac1259a0>"
      ]
     },
     "execution_count": 27,
     "metadata": {},
     "output_type": "execute_result"
    },
    {
     "data": {
      "image/png": "[encoded data removed]",
      "text/plain": [
       "<Figure size 1008x360 with 4 Axes>"
      ]
     },
     "metadata": {
      "needs_background": "light"
     },
     "output_type": "display_data"
    }
   ],
   "source": [
    "fig, ax = plt.subplots(1, 2)\n",
    "fig.set_size_inches(14, 5)\n",
    "\n",
    "levels = np.linspace(17.5, 22, 30)\n",
    "\n",
    "h0 = ax[0].contourf(Esrc_range.to_value(u.eV), D_range.to_value(u.Mpc), np.log10(mean_arrival_energy.to_value(u.eV)).T, levels=levels)\n",
    "ax[0].set_title(\"With simulation\")\n",
    "\n",
    "h1 = ax[1].contourf(Esrc_range.to_value(u.eV), D_range.to_value(u.Mpc), np.log10(arrival_energies.to_value(u.eV)).T, levels=levels)\n",
    "ax[1].set_title(\"With loss length\")\n",
    "\n",
    "for axis in ax:\n",
    "    axis.set_xscale(\"log\")\n",
    "    axis.set_yscale(\"log\")\n",
    "    axis.set_xlabel(\"Esrc [eV]\")\n",
    "    axis.set_ylabel(\"D [Mpc]]\")\n",
    "\n",
    "fig.colorbar(h0, ax=ax[0])\n",
    "fig.colorbar(h1, ax=ax[1])"
   ]
  },
  {
   "cell_type": "code",
   "execution_count": null,
   "metadata": {},
   "outputs": [],
   "source": []
  }
 ],
 "metadata": {
  "kernelspec": {
   "display_name": "Python 3.9.13 ('uhecr_env')",
   "language": "python",
   "name": "python3"
  },
  "language_info": {
   "codemirror_mode": {
    "name": "ipython",
    "version": 3
   },
   "file_extension": ".py",
   "mimetype": "text/x-python",
   "name": "python",
   "nbconvert_exporter": "python",
   "pygments_lexer": "ipython3",
   "version": "3.9.13"
  },
  "orig_nbformat": 4,
  "vscode": {
   "interpreter": {
    "hash": "c3716e2b9d0a7b493b43ef48782f2f1f83f5aeaf07f9e4a629b1009e5b96a077"
   }
  }
 },
 "nbformat": 4,
 "nbformat_minor": 2
}
