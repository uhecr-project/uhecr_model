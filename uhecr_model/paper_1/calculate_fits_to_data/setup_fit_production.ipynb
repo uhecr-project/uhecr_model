{
 "cells": [
  {
   "cell_type": "markdown",
   "metadata": {},
   "source": [
    "# Create a submission script for mass production of stan fits to DATA on a condor cluster"
   ]
  },
  {
   "cell_type": "code",
   "execution_count": 1,
   "metadata": {},
   "outputs": [],
   "source": [
    "from itertools import product"
   ]
  },
  {
   "cell_type": "code",
   "execution_count": 2,
   "metadata": {},
   "outputs": [],
   "source": [
    "template = \"\"\"Executable      = condor_runner.sh\n",
    "Universe        = vanilla\n",
    "#request_gpus   = 1\n",
    "request_cpus    = 8\n",
    "request_memory  = 4 GB\n",
    "run_as_owner    = True\n",
    "Error           = logs/err\n",
    "Output          = logs/out\n",
    "Log             = logs/log\n",
    "\"\"\"\n",
    "\n",
    "# environment = \"MKL_NUM_THREADS=1 MKL_DEBUG_CPU_TYPE=5\""
   ]
  },
  {
   "cell_type": "code",
   "execution_count": 3,
   "metadata": {},
   "outputs": [],
   "source": [
    "source_types = [\"SBG_23\", \"2FHL_250Mpc\", \"swift_BAT_213\"]\n",
    "detector_types = [\"auger2014\", \"TA2015\"]\n",
    "model_types = [\"arrival\", \"joint\", \"joint_gmf\"]\n",
    "ptypes = [\"p\", \"N\", \"Fe\"]\n",
    "gmf_types = [\"JF12\"]\n",
    "seeds = [19990308]\n",
    "\n",
    "submit_file = template + \"\\n\"\n",
    "n_jobs = 0\n",
    "for st, dt, mt, pt, seed in product(source_types, detector_types, model_types, ptypes, seeds):\n",
    "    if mt == 'arrival' and pt != 'p':\n",
    "        continue\n",
    "    if mt == 'joint_gmf':\n",
    "        for gmf in gmf_types:\n",
    "            submit_file += f\"Arguments = --source={st} --detector={dt} --model={mt} \"\n",
    "            submit_file += f\"--ptype={pt} --gmf=None --random_seed={seed}\\nQueue\\n\"\n",
    "    else:\n",
    "        submit_file += f\"Arguments = --source={st} --detector={dt} --model={mt} \"\n",
    "        submit_file += f\"--ptype={pt} --gmf=None --random_seed={seed}\\nQueue\\n\"\n",
    "    n_jobs += 1"
   ]
  },
  {
   "cell_type": "code",
   "execution_count": 4,
   "metadata": {},
   "outputs": [
    {
     "name": "stdout",
     "output_type": "stream",
     "text": [
      "The submit file contains 54 jobs.\n"
     ]
    }
   ],
   "source": [
    "print(f\"The submit file contains {n_jobs} jobs.\")"
   ]
  },
  {
   "cell_type": "code",
   "execution_count": 5,
   "metadata": {},
   "outputs": [
    {
     "name": "stdout",
     "output_type": "stream",
     "text": [
      "Executable      = condor_runner.sh\n",
      "Universe        = vanilla\n",
      "#request_gpus   = 1\n",
      "request_cpus    = 8\n",
      "request_memory  = 4 GB\n",
      "run_as_owner    = True\n",
      "Error           = logs/err\n",
      "Output          = logs/out\n",
      "Log             = logs/log\n",
      "\n",
      "Arguments = --source=SBG_23 --detector=auger2014 --model=arrival --ptype=p --gmf=None --random_seed=19990308\n",
      "Queue\n",
      "Arguments = --source=SBG_23 --detector=auger2014 --model=arrival --ptype=N --gmf=None --random_seed=19990308\n",
      "Queue\n",
      "Arguments = --source=SBG_23 --detector=auger2014 --model=arrival --ptype=Fe --gmf=None --random_seed=19990308\n",
      "Queue\n",
      "Arguments = --source=SBG_23 --detector=auger2014 --model=joint --ptype=p --gmf=None --random_seed=19990308\n",
      "Queue\n",
      "Arguments = --source=SBG_23 --detector=auger2014 --model=joint --ptype=N --gmf=None --random_seed=19990308\n",
      "Queue\n",
      "Arguments = --source=SBG_23 --detector=auger2014 --model=joint --ptype=Fe --gmf=None --random_seed=19990308\n",
      "Queue\n",
      "Arguments = --source=SBG_23 --detector=auger2014 --model=joint_gmf --ptype=p --gmf=None --random_seed=19990308\n",
      "Queue\n",
      "Arguments = --source=SBG_23 --detector=auger2014 --model=joint_gmf --ptype=N --gmf=None --random_seed=19990308\n",
      "Queue\n",
      "Arguments = --source=SBG_23 --detector=auger2014 --model=joint_gmf --ptype=Fe --gmf=None --random_seed=19990308\n",
      "Queue\n",
      "Arguments = --source=SBG_23 --detector=TA2015 --model=arrival --ptype=p --gmf=None --random_seed=19990308\n",
      "Queue\n",
      "Arguments = --source=SBG_23 --detector=TA2015 --model=arrival --ptype=N --gmf=None --random_seed=19990308\n",
      "Queue\n",
      "Arguments = --source=SBG_23 --detector=TA2015 --model=arrival --ptype=Fe --gmf=None --random_seed=19990308\n",
      "Queue\n",
      "Arguments = --source=SBG_23 --detector=TA2015 --model=joint --ptype=p --gmf=None --random_seed=19990308\n",
      "Queue\n",
      "Arguments = --source=SBG_23 --detector=TA2015 --model=joint --ptype=N --gmf=None --random_seed=19990308\n",
      "Queue\n",
      "Arguments = --source=SBG_23 --detector=TA2015 --model=joint --ptype=Fe --gmf=None --random_seed=19990308\n",
      "Queue\n",
      "Arguments = --source=SBG_23 --detector=TA2015 --model=joint_gmf --ptype=p --gmf=None --random_seed=19990308\n",
      "Queue\n",
      "Arguments = --source=SBG_23 --detector=TA2015 --model=joint_gmf --ptype=N --gmf=None --random_seed=19990308\n",
      "Queue\n",
      "Arguments = --source=SBG_23 --detector=TA2015 --model=joint_gmf --ptype=Fe --gmf=None --random_seed=19990308\n",
      "Queue\n",
      "Arguments = --source=2FHL_250Mpc --detector=auger2014 --model=arrival --ptype=p --gmf=None --random_seed=19990308\n",
      "Queue\n",
      "Arguments = --source=2FHL_250Mpc --detector=auger2014 --model=arrival --ptype=N --gmf=None --random_seed=19990308\n",
      "Queue\n",
      "Arguments = --source=2FHL_250Mpc --detector=auger2014 --model=arrival --ptype=Fe --gmf=None --random_seed=19990308\n",
      "Queue\n",
      "Arguments = --source=2FHL_250Mpc --detector=auger2014 --model=joint --ptype=p --gmf=None --random_seed=19990308\n",
      "Queue\n",
      "Arguments = --source=2FHL_250Mpc --detector=auger2014 --model=joint --ptype=N --gmf=None --random_seed=19990308\n",
      "Queue\n",
      "Arguments = --source=2FHL_250Mpc --detector=auger2014 --model=joint --ptype=Fe --gmf=None --random_seed=19990308\n",
      "Queue\n",
      "Arguments = --source=2FHL_250Mpc --detector=auger2014 --model=joint_gmf --ptype=p --gmf=None --random_seed=19990308\n",
      "Queue\n",
      "Arguments = --source=2FHL_250Mpc --detector=auger2014 --model=joint_gmf --ptype=N --gmf=None --random_seed=19990308\n",
      "Queue\n",
      "Arguments = --source=2FHL_250Mpc --detector=auger2014 --model=joint_gmf --ptype=Fe --gmf=None --random_seed=19990308\n",
      "Queue\n",
      "Arguments = --source=2FHL_250Mpc --detector=TA2015 --model=arrival --ptype=p --gmf=None --random_seed=19990308\n",
      "Queue\n",
      "Arguments = --source=2FHL_250Mpc --detector=TA2015 --model=arrival --ptype=N --gmf=None --random_seed=19990308\n",
      "Queue\n",
      "Arguments = --source=2FHL_250Mpc --detector=TA2015 --model=arrival --ptype=Fe --gmf=None --random_seed=19990308\n",
      "Queue\n",
      "Arguments = --source=2FHL_250Mpc --detector=TA2015 --model=joint --ptype=p --gmf=None --random_seed=19990308\n",
      "Queue\n",
      "Arguments = --source=2FHL_250Mpc --detector=TA2015 --model=joint --ptype=N --gmf=None --random_seed=19990308\n",
      "Queue\n",
      "Arguments = --source=2FHL_250Mpc --detector=TA2015 --model=joint --ptype=Fe --gmf=None --random_seed=19990308\n",
      "Queue\n",
      "Arguments = --source=2FHL_250Mpc --detector=TA2015 --model=joint_gmf --ptype=p --gmf=None --random_seed=19990308\n",
      "Queue\n",
      "Arguments = --source=2FHL_250Mpc --detector=TA2015 --model=joint_gmf --ptype=N --gmf=None --random_seed=19990308\n",
      "Queue\n",
      "Arguments = --source=2FHL_250Mpc --detector=TA2015 --model=joint_gmf --ptype=Fe --gmf=None --random_seed=19990308\n",
      "Queue\n",
      "Arguments = --source=swift_BAT_213 --detector=auger2014 --model=arrival --ptype=p --gmf=None --random_seed=19990308\n",
      "Queue\n",
      "Arguments = --source=swift_BAT_213 --detector=auger2014 --model=arrival --ptype=N --gmf=None --random_seed=19990308\n",
      "Queue\n",
      "Arguments = --source=swift_BAT_213 --detector=auger2014 --model=arrival --ptype=Fe --gmf=None --random_seed=19990308\n",
      "Queue\n",
      "Arguments = --source=swift_BAT_213 --detector=auger2014 --model=joint --ptype=p --gmf=None --random_seed=19990308\n",
      "Queue\n",
      "Arguments = --source=swift_BAT_213 --detector=auger2014 --model=joint --ptype=N --gmf=None --random_seed=19990308\n",
      "Queue\n",
      "Arguments = --source=swift_BAT_213 --detector=auger2014 --model=joint --ptype=Fe --gmf=None --random_seed=19990308\n",
      "Queue\n",
      "Arguments = --source=swift_BAT_213 --detector=auger2014 --model=joint_gmf --ptype=p --gmf=None --random_seed=19990308\n",
      "Queue\n",
      "Arguments = --source=swift_BAT_213 --detector=auger2014 --model=joint_gmf --ptype=N --gmf=None --random_seed=19990308\n",
      "Queue\n",
      "Arguments = --source=swift_BAT_213 --detector=auger2014 --model=joint_gmf --ptype=Fe --gmf=None --random_seed=19990308\n",
      "Queue\n",
      "Arguments = --source=swift_BAT_213 --detector=TA2015 --model=arrival --ptype=p --gmf=None --random_seed=19990308\n",
      "Queue\n",
      "Arguments = --source=swift_BAT_213 --detector=TA2015 --model=arrival --ptype=N --gmf=None --random_seed=19990308\n",
      "Queue\n",
      "Arguments = --source=swift_BAT_213 --detector=TA2015 --model=arrival --ptype=Fe --gmf=None --random_seed=19990308\n",
      "Queue\n",
      "Arguments = --source=swift_BAT_213 --detector=TA2015 --model=joint --ptype=p --gmf=None --random_seed=19990308\n",
      "Queue\n",
      "Arguments = --source=swift_BAT_213 --detector=TA2015 --model=joint --ptype=N --gmf=None --random_seed=19990308\n",
      "Queue\n",
      "Arguments = --source=swift_BAT_213 --detector=TA2015 --model=joint --ptype=Fe --gmf=None --random_seed=19990308\n",
      "Queue\n",
      "Arguments = --source=swift_BAT_213 --detector=TA2015 --model=joint_gmf --ptype=p --gmf=None --random_seed=19990308\n",
      "Queue\n",
      "Arguments = --source=swift_BAT_213 --detector=TA2015 --model=joint_gmf --ptype=N --gmf=None --random_seed=19990308\n",
      "Queue\n",
      "Arguments = --source=swift_BAT_213 --detector=TA2015 --model=joint_gmf --ptype=Fe --gmf=None --random_seed=19990308\n",
      "Queue\n",
      "\n"
     ]
    }
   ],
   "source": [
    "with open('submit_data_fits.condor', \"w\") as f:\n",
    "    f.write(submit_file)\n",
    "print(submit_file)"
   ]
  },
  {
   "cell_type": "code",
   "execution_count": null,
   "metadata": {},
   "outputs": [],
   "source": []
  }
 ],
 "metadata": {
  "interpreter": {
   "hash": "aaa20d2ce582278d66521d81a28542c55ff4d6c5d993618f8af371f227d5fd3e"
  },
  "kernelspec": {
   "display_name": "Python 3.8.5 ('uhecr_env')",
   "language": "python",
   "name": "python3"
  },
  "language_info": {
   "codemirror_mode": {
    "name": "ipython",
    "version": 3
   },
   "file_extension": ".py",
   "mimetype": "text/x-python",
   "name": "python",
   "nbconvert_exporter": "python",
   "pygments_lexer": "ipython3",
   "version": "3.8.5"
  },
  "orig_nbformat": 4
 },
 "nbformat": 4,
 "nbformat_minor": 2
}
