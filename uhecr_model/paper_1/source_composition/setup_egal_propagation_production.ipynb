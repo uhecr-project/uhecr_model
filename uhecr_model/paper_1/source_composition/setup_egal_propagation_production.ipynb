{
 "cells": [
  {
   "attachments": {},
   "cell_type": "markdown",
   "metadata": {},
   "source": [
    "# Submission script for CRPropa3 Simulation for Extragalactic Propagation"
   ]
  },
  {
   "cell_type": "code",
   "execution_count": 1,
   "metadata": {},
   "outputs": [],
   "source": [
    "from itertools import product\n",
    "\n",
    "# needed to make condor run correctly\n",
    "import os\n",
    "if not os.path.isdir(\"logs\"):\n",
    "    os.mkdir(\"logs\")"
   ]
  },
  {
   "cell_type": "code",
   "execution_count": 2,
   "metadata": {},
   "outputs": [],
   "source": [
    "template = \"\"\"Executable      = condor_runner.sh\n",
    "Universe        = vanilla\n",
    "#request_gpus   = 1\n",
    "request_cpus    = 1\n",
    "request_memory  = 2 GB\n",
    "run_as_owner    = True\n",
    "Error           = logs/err\n",
    "Output          = logs/out\n",
    "Log             = logs/log\n",
    "\"\"\"\n",
    "\n",
    "# environment = \"MKL_NUM_THREADS=1 MKL_DEBUG_CPU_TYPE=5\""
   ]
  },
  {
   "cell_type": "code",
   "execution_count": 9,
   "metadata": {},
   "outputs": [],
   "source": [
    "arrival_ptypes = [\"p\", \"N\", \"Fe\"]\n",
    "\n",
    "submit_file = template + \"\\n\"\n",
    "n_jobs = 0\n",
    "for pt_arr in arrival_ptypes:\n",
    "    submit_file += f\"Arguments = --ptype={pt_arr}\\nQueue\\n\"\n",
    "    n_jobs += 1"
   ]
  },
  {
   "cell_type": "code",
   "execution_count": 10,
   "metadata": {},
   "outputs": [
    {
     "name": "stdout",
     "output_type": "stream",
     "text": [
      "The submit file contains 3 jobs.\n"
     ]
    }
   ],
   "source": [
    "print(f\"The submit file contains {n_jobs} jobs.\")"
   ]
  },
  {
   "cell_type": "code",
   "execution_count": 12,
   "metadata": {},
   "outputs": [
    {
     "name": "stdout",
     "output_type": "stream",
     "text": [
      "Executable      = condor_runner.sh\n",
      "Universe        = vanilla\n",
      "#request_gpus   = 1\n",
      "request_cpus    = 1\n",
      "request_memory  = 2 GB\n",
      "run_as_owner    = True\n",
      "Error           = logs/err\n",
      "Output          = logs/out\n",
      "Log             = logs/log\n",
      "\n",
      "Arguments = --ptype=p\n",
      "Queue\n",
      "Arguments = --ptype=N\n",
      "Queue\n",
      "Arguments = --ptype=Fe\n",
      "Queue\n",
      "\n"
     ]
    }
   ],
   "source": [
    "with open('submit_egal_propagations.condor', \"w\") as f:\n",
    "    f.write(submit_file)\n",
    "print(submit_file)"
   ]
  }
 ],
 "metadata": {
  "kernelspec": {
   "display_name": "uhecr_env1",
   "language": "python",
   "name": "python3"
  },
  "language_info": {
   "codemirror_mode": {
    "name": "ipython",
    "version": 3
   },
   "file_extension": ".py",
   "mimetype": "text/x-python",
   "name": "python",
   "nbconvert_exporter": "python",
   "pygments_lexer": "ipython3",
   "version": "3.9.13"
  },
  "orig_nbformat": 4,
  "vscode": {
   "interpreter": {
    "hash": "33932bf97fded9331f6b3f8563e9716582545b706dba662084ef11a9ae655a9e"
   }
  }
 },
 "nbformat": 4,
 "nbformat_minor": 2
}
