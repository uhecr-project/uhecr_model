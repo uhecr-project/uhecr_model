{
 "cells": [
  {
   "attachments": {},
   "cell_type": "markdown",
   "metadata": {},
   "source": [
    "## Analyze the source compositions from extragalactic propagation scripts\n",
    "\n",
    "As the rigidity is approximately constant throughout propagation, the energy loss can be parametrized by the loss of A instead. We can then construct a distribution for source compositions for each arrival compositions, for a grid of rigidities and distances. Then the mean A can be said as the mean composition for each source that emits UHECRs at a given rigidity and distance.\n",
    "\n",
    "We do this as with constructing the deflection maps by setting up a Python script and submitting via HTCondor.\n",
    "\n",
    "Here, we analyze the results and construct a source composition histogram for each arrival composition."
   ]
  },
  {
   "cell_type": "code",
   "execution_count": 1,
   "metadata": {},
   "outputs": [],
   "source": [
    "import h5py\n",
    "import numpy as np\n",
    "import matplotlib.pyplot as plt\n",
    "import astropy.units as u"
   ]
  },
  {
   "attachments": {},
   "cell_type": "markdown",
   "metadata": {},
   "source": [
    "### Load output files"
   ]
  },
  {
   "cell_type": "code",
   "execution_count": null,
   "metadata": {},
   "outputs": [],
   "source": [
    "arrival_ptypes = {\n",
    "    \"p\": (1, 1),\n",
    "    \"N\": (14, 7),\n",
    "    \"Fe\": (56, 26),\n",
    "}\n",
    "# array to append for each arrival composition\n",
    "src_comp_labels = []\n",
    "src_comp_A = []\n",
    "src_comp_Z = []\n",
    "Rsrc_range = []\n",
    "Dsrc_range = []\n",
    "mean_charge = []\n",
    "mean_mass_number = []\n",
    "mean_energy_per_nucleon = []\n",
    "mean_rigidity = []\n",
    "mean_rigidity_nuclei = []\n",
    "mean_A_Aarr = []\n",
    "\n",
    "\n",
    "for l, pt in enumerate(list(arrival_ptypes.keys())):\n",
    "    with h5py.File(f\"output/extragal_propa_{pt}.h5.h5\", \"r\") as f:\n",
    "        src_comp_labels.append(f[\"src_comp_labels\"][()])\n",
    "        src_comp_A.append(f[\"src_comp_A\"][()])\n",
    "        src_comp_Z.append(f[\"src_comp_Z\"][()])\n",
    "        Rsrc_range.append(f[\"Rsrc_range\"][()] * u.V)\n",
    "        Dsrc_range.append(f[\"Dsrc_range\"][()] * u.Mpc)\n",
    "        mean_charge.append(f[\"mean_charge\"][()])\n",
    "        mean_mass_number.append(f[\"mean_mass_number\"][()])\n",
    "        mean_energy_per_nucleon.append(f[\"mean_energy_per_nucleon\"][()] * u.eV)\n",
    "        mean_rigidity.append(f[\"mean_rigidity\"][()] * u.V)\n",
    "        mean_rigidity_nuclei.append(f[\"mean_rigidity_nuclei\"][()] * u.V)\n",
    "        mean_A_Aarr.append(f[\"mean_A_Aarr\"][()])"
   ]
  },
  {
   "attachments": {},
   "cell_type": "markdown",
   "metadata": {},
   "source": [
    "### Plot source composition histograms\n",
    "\n",
    "For each rigidity and source distance."
   ]
  },
  {
   "cell_type": "code",
   "execution_count": null,
   "metadata": {},
   "outputs": [],
   "source": [
    "Ngrid_slice = 5\n",
    "\n",
    "for l, (pt, ptup) in enumerate(list(arrival_ptypes.items())):\n",
    "    for i, Rsrc in enumerate(Rsrc_range[::Ngrid_slice]):\n",
    "        \n",
    "        # convert rigidity to EV\n",
    "        Rsrc_EV = Rsrc * 1e-18\n",
    "\n",
    "        fig, ax = plt.subplots(figsize=(8,6))\n",
    "        # plot for each distance\n",
    "        for j, Dsrc in enumerate(Dsrc_range[::Ngrid_slice]):\n",
    "            ax.plot(src_comp_Z[l][i,j], mean_A_Aarr[l][i,j], label=rf\"$D_\\mathrm{{src}}$ = {Dsrc:.2f} Mpc\")\n",
    "\n",
    "        ax.set_xlabel(r\"Source Composition $Z$\")\n",
    "        ax.set_ylabel(r\"$N_\\mathrm{part}$, $Z = Z_\\mathrm{arr}$\")\n",
    "        ax.set_title(f\"Source Composition Spectrum of $Z_\\mathrm{{arr}}$ = {ptup[1]:d} with $R_\\mathrm{{src}} = {Rsrc_EV:.2f} EV\")\n",
    "        ax.grid()\n",
    "        ax.legend()\n",
    "\n",
    "        # fig.savefig(f\"figures/source_composition_Rsrc{Rsrc_EV:.0f}EV_Zarr{ptup[1]:d}.png\", dpi=300, bbox_inches=\"tight\")\n",
    "\n"
   ]
  }
 ],
 "metadata": {
  "kernelspec": {
   "display_name": "uhecr_env1",
   "language": "python",
   "name": "python3"
  },
  "language_info": {
   "codemirror_mode": {
    "name": "ipython",
    "version": 3
   },
   "file_extension": ".py",
   "mimetype": "text/x-python",
   "name": "python",
   "nbconvert_exporter": "python",
   "pygments_lexer": "ipython3",
   "version": "3.9.13"
  },
  "orig_nbformat": 4,
  "vscode": {
   "interpreter": {
    "hash": "33932bf97fded9331f6b3f8563e9716582545b706dba662084ef11a9ae655a9e"
   }
  }
 },
 "nbformat": 4,
 "nbformat_minor": 2
}
